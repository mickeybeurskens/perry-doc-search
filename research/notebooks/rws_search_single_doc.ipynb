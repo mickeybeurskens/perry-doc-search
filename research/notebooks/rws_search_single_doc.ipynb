{
 "cells": [
  {
   "attachments": {},
   "cell_type": "markdown",
   "id": "f1521c61-a06e-44db-abf5-d6c9505ea6b8",
   "metadata": {},
   "source": [
    "# Searching A Single Document By Rijkswaterstaat (RWS)\n",
    "\n",
    "A test on how to load a PDF document and search it using the Perry AI Powered Document Analysis tool."
   ]
  },
  {
   "attachments": {},
   "cell_type": "markdown",
   "id": "c2962773",
   "metadata": {},
   "source": [
    "## Constructing The File Nodes"
   ]
  },
  {
   "cell_type": "code",
   "execution_count": 7,
   "id": "8bf66846",
   "metadata": {},
   "outputs": [],
   "source": [
    "# Check if doc_data/RWS exists, give warning if not\n",
    "import pathlib\n",
    "\n",
    "def get_data_path():\n",
    "    \"\"\"Returns the path to the RWS data directory.\"\"\"\n",
    "    return pathlib.Path.cwd() / \"doc_data\" / \"RWS\"\n",
    "\n",
    "rws_path = get_data_path()\n",
    "if not rws_path.exists():\n",
    "    print(\"Warning: RWS data not found. Please create the directory and fill it with document data first.\")\n",
    "\n",
    "if not any(rws_path.iterdir()):\n",
    "    print(\"Warning: RWS data not found. Please fill the directory with document data first.\")"
   ]
  },
  {
   "cell_type": "code",
   "execution_count": 8,
   "id": "85686ce5",
   "metadata": {},
   "outputs": [],
   "source": [
    "import os\n",
    "import openai\n",
    "from dotenv import load_dotenv\n",
    "from llama_index import VectorStoreIndex, StorageContext, ServiceContext, load_index_from_storage\n",
    "from llama_index.readers.base import BaseReader\n",
    "from llama_index.schema import Document\n",
    "\n",
    "def load_openai_api_key():\n",
    "    \"\"\"Load OpenAI API key from environment variable.\"\"\"\n",
    "    load_dotenv()\n",
    "    openai.api_key = os.environ[\"OPENAI_API_KEY\"]\n",
    "\n",
    "def get_rws_file_paths(data_dir: pathlib.Path) -> list[pathlib.Path]:\n",
    "    \"\"\"Get file paths of RWS documents.\"\"\"\n",
    "    return [f for f in data_dir.iterdir() if f.is_file()]\n",
    "\n",
    "def load_rws_documents(data_dir: pathlib.Path, loader: BaseReader) -> dict[str, list[Document]]:\n",
    "    \"\"\"Load RWS documents.\"\"\"\n",
    "    doc_set = {}\n",
    "    for doc_path in get_rws_file_paths(data_dir):\n",
    "        docs = loader.load_data(file=doc_path, split_documents=False)\n",
    "        doc_set[doc_path.stem] = docs\n",
    "    return doc_set\n",
    "    \n",
    "def create_vector_indexes(doc_set: dict[str, list[Document]]) -> dict[str, list[VectorStoreIndex]]:\n",
    "    \"\"\"Create and store vector indexes.\"\"\"\n",
    "    service_context = ServiceContext.from_defaults(chunk_size=512)\n",
    "    vector_indexes = {}\n",
    "    for doc_name, docs in doc_set.items():\n",
    "        storage_context = StorageContext.from_defaults()\n",
    "        vector_index = VectorStoreIndex.from_documents(\n",
    "            docs,\n",
    "            service_context=service_context,\n",
    "            storage_context=storage_context\n",
    "        )\n",
    "        vector_indexes[doc_name] = vector_index\n",
    "    return vector_indexes\n",
    "\n",
    "def save_vector_indexes(vector_indexes: dict[str, list[VectorStoreIndex]]) -> None:\n",
    "    \"\"\"Save vector indexes.\"\"\"\n",
    "    for doc_name, vector_index in vector_indexes.items():\n",
    "        vector_index.storage_context.persist(persist_dir=f'./storage/rws/{doc_name}')\n",
    "\n",
    "def load_vector_indexes() -> dict[str, list[VectorStoreIndex]]:\n",
    "    \"\"\"Load vector indexes.\"\"\"\n",
    "    vector_indexes = {}\n",
    "    for doc_name in get_rws_file_paths(rws_path):\n",
    "        storage_context = StorageContext.from_defaults(persist_dir=f'./storage/rws/{doc_name.stem}')\n",
    "        vector_index = load_index_from_storage(storage_context=storage_context)\n",
    "        vector_indexes[doc_name.stem] = vector_index\n",
    "    return vector_indexes\n"
   ]
  },
  {
   "cell_type": "code",
   "execution_count": 5,
   "id": "6fb09262",
   "metadata": {},
   "outputs": [
    {
     "name": "stderr",
     "output_type": "stream",
     "text": [
      "[nltk_data] Downloading package punkt to /home/bluegnome/nltk_data...\n",
      "[nltk_data]   Package punkt is already up-to-date!\n",
      "[nltk_data] Downloading package averaged_perceptron_tagger to\n",
      "[nltk_data]     /home/bluegnome/nltk_data...\n",
      "[nltk_data]   Package averaged_perceptron_tagger is already up-to-\n",
      "[nltk_data]       date!\n"
     ]
    }
   ],
   "source": [
    "# Load in docs\n",
    "from llama_index import download_loader\n",
    "load_openai_api_key()\n",
    "UnstructuredReader = download_loader(\"UnstructuredReader\", refresh_cache=True)\n",
    "loader = UnstructuredReader()\n",
    "docs = load_rws_documents(rws_path, loader)"
   ]
  },
  {
   "cell_type": "code",
   "execution_count": 9,
   "id": "8fb2c590",
   "metadata": {},
   "outputs": [],
   "source": [
    "vector_indexes_new = create_vector_indexes(docs)\n",
    "save_vector_indexes(vector_indexes_new)"
   ]
  },
  {
   "cell_type": "code",
   "execution_count": 10,
   "id": "6839a495",
   "metadata": {},
   "outputs": [],
   "source": [
    "vector_indexes = load_vector_indexes()"
   ]
  },
  {
   "cell_type": "code",
   "execution_count": 11,
   "id": "b3874096",
   "metadata": {},
   "outputs": [
    {
     "data": {
      "text/plain": [
       "dict_keys(['Aanbestedingsleidraad_BOC_ZD'])"
      ]
     },
     "execution_count": 11,
     "metadata": {},
     "output_type": "execute_result"
    }
   ],
   "source": [
    "vector_indexes_new.keys()"
   ]
  },
  {
   "cell_type": "code",
   "execution_count": 12,
   "id": "b9a974f3",
   "metadata": {},
   "outputs": [
    {
     "data": {
      "text/plain": [
       "dict_keys(['Aanbestedingsleidraad_BOC_ZD'])"
      ]
     },
     "execution_count": 12,
     "metadata": {},
     "output_type": "execute_result"
    }
   ],
   "source": [
    "vector_indexes.keys()"
   ]
  },
  {
   "attachments": {},
   "cell_type": "markdown",
   "id": "54b50882",
   "metadata": {},
   "source": [
    "# Create Langchain Tooling"
   ]
  },
  {
   "attachments": {},
   "cell_type": "markdown",
   "id": "976248ce",
   "metadata": {},
   "source": [
    "Create langchain tooling from the loaded indexes."
   ]
  },
  {
   "cell_type": "code",
   "execution_count": 34,
   "id": "be65bdda",
   "metadata": {},
   "outputs": [],
   "source": [
    "from langchain.chains.conversation.memory import ConversationBufferMemory\n",
    "\n",
    "from llama_index.langchain_helpers.agents import LlamaToolkit, create_llama_chat_agent, IndexToolConfig\n",
    "from llama_index.bridge.langchain import AgentExecutor\n",
    "\n",
    "from langchain import OpenAI\n",
    "\n",
    "\n",
    "def create_vector_index_tool_configs(vector_indexes: dict[str, list[VectorStoreIndex]]) -> dict[str, IndexToolConfig]:\n",
    "    \"\"\"Create vector index tool configs.\"\"\"\n",
    "    index_tool_configs = {}\n",
    "    for doc_name, vector_index in vector_indexes.items():\n",
    "        query_engine = vector_index.as_query_engine(\n",
    "            similarity_top_k=3,\n",
    "        )\n",
    "        index_tool_configs[doc_name] = IndexToolConfig(\n",
    "            query_engine=query_engine,\n",
    "            name=f\"Vector Index {doc_name}\",\n",
    "            description=f\"Aanbestedingsleidraad voor rijkswaterstaat opdrachten\",\n",
    "            tool_kwargs={\"return_direct\": True}\n",
    "        )\n",
    "    return index_tool_configs\n",
    "\n",
    "def create_langchain_toolkit(index_tool_configs: dict[str, IndexToolConfig]) -> LlamaToolkit:\n",
    "    \"\"\"Create LangChain toolkit.\"\"\"\n",
    "    return LlamaToolkit(index_configs= list(index_tool_configs.values()))\n",
    "\n",
    "def create_langchain_chat_agent(toolkit: LlamaToolkit) -> AgentExecutor:\n",
    "    \"\"\"Create LangChain chat agent.\"\"\"\n",
    "    memory = ConversationBufferMemory(memory_key=\"chat_history\")\n",
    "    llm=OpenAI(temperature=0)\n",
    "    return create_llama_chat_agent(\n",
    "        toolkit,\n",
    "        llm,\n",
    "        memory=memory,\n",
    "        verbose=True\n",
    "    )\n"
   ]
  },
  {
   "cell_type": "code",
   "execution_count": 35,
   "id": "341384ca",
   "metadata": {},
   "outputs": [],
   "source": [
    "toolkit = create_langchain_toolkit(create_vector_index_tool_configs(vector_indexes))\n",
    "agent = create_langchain_chat_agent(toolkit)"
   ]
  },
  {
   "attachments": {},
   "cell_type": "markdown",
   "id": "90c08c22",
   "metadata": {},
   "source": [
    "# Ask Questions For Testing"
   ]
  },
  {
   "cell_type": "code",
   "execution_count": 20,
   "id": "705812e2",
   "metadata": {},
   "outputs": [
    {
     "name": "stdout",
     "output_type": "stream",
     "text": [
      "\n",
      "\n",
      "\u001b[1m> Entering new  chain...\u001b[0m\n",
      "\u001b[32;1m\u001b[1;3m\n",
      "Thought: Do I need to use a tool? No\n",
      "AI: Hi Arthur, it's nice to meet you! What can I do for you today?\u001b[0m\n",
      "\n",
      "\u001b[1m> Finished chain.\u001b[0m\n"
     ]
    },
    {
     "data": {
      "text/plain": [
       "\"Hi Arthur, it's nice to meet you! What can I do for you today?\""
      ]
     },
     "execution_count": 20,
     "metadata": {},
     "output_type": "execute_result"
    }
   ],
   "source": [
    "agent.run(input=\"Hi GPT, I'm Arthur, king of the britons.\")"
   ]
  },
  {
   "cell_type": "code",
   "execution_count": 22,
   "id": "c5a7c938",
   "metadata": {},
   "outputs": [
    {
     "name": "stdout",
     "output_type": "stream",
     "text": [
      "\n",
      "\n",
      "\u001b[1m> Entering new  chain...\u001b[0m\n",
      "\u001b[32;1m\u001b[1;3m\n",
      "AI: \n",
      "1. Uitsluitingsgronden: Rijkswaterstaat neemt alle uitsluitingsgronden in acht die een inschrijver kunnen diskwalificeren voor de opdracht.\n",
      "\n",
      "2. Geschiktheidseisen: Rijkswaterstaat beoordeelt de geschiktheidseisen van de inschrijver om te bepalen of deze geschikt is om de opdracht uit te voeren.\n",
      "\n",
      "3. Bewijsmiddelen: Rijkswaterstaat beoordeelt de bewijsmiddelen die de inschrijver heeft aangeleverd om te bewijzen dat deze in staat is om de opdracht uit te voeren.\u001b[0m\n",
      "\n",
      "\u001b[1m> Finished chain.\u001b[0m\n"
     ]
    }
   ],
   "source": [
    "answer = agent.run(input=\"Give me a bullet point list of the three most important aspects that rijkswaterstaat considers when awarding a contract in dutch.\")"
   ]
  },
  {
   "cell_type": "code",
   "execution_count": 24,
   "id": "bac3f9db",
   "metadata": {},
   "outputs": [
    {
     "data": {
      "text/markdown": [
       "1. Uitsluitingsgronden: Rijkswaterstaat neemt alle uitsluitingsgronden in acht die een inschrijver kunnen diskwalificeren voor de opdracht.\n",
       "\n",
       "2. Geschiktheidseisen: Rijkswaterstaat beoordeelt de geschiktheidseisen van de inschrijver om te bepalen of deze geschikt is om de opdracht uit te voeren.\n",
       "\n",
       "3. Bewijsmiddelen: Rijkswaterstaat beoordeelt de bewijsmiddelen die de inschrijver heeft aangeleverd om te bewijzen dat deze in staat is om de opdracht uit te voeren."
      ],
      "text/plain": [
       "<IPython.core.display.Markdown object>"
      ]
     },
     "execution_count": 24,
     "metadata": {},
     "output_type": "execute_result"
    }
   ],
   "source": [
    "# Display markdown answer\n",
    "from IPython.display import Markdown\n",
    "Markdown(answer)"
   ]
  },
  {
   "cell_type": "code",
   "execution_count": 31,
   "id": "89abcd9b",
   "metadata": {},
   "outputs": [
    {
     "name": "stdout",
     "output_type": "stream",
     "text": [
      "\n",
      "\n",
      "\u001b[1m> Entering new  chain...\u001b[0m\n",
      "\u001b[32;1m\u001b[1;3m\n",
      "AI: De aanbestedingsleidraad voor rijkswaterstaat opdrachten bevat de volgende punten:\n",
      "\n",
      "1. Uitsluitingsgronden: Rijkswaterstaat neemt alle uitsluitingsgronden in acht die een inschrijver kunnen diskwalificeren voor de opdracht.\n",
      "\n",
      "2. Geschiktheidseisen: Rijkswaterstaat beoordeelt de geschiktheidseisen van de inschrijver om te bepalen of deze geschikt is om de opdracht uit te voeren.\n",
      "\n",
      "3. Bewijsmiddelen: Rijkswaterstaat beoordeelt de bewijsmiddelen die de inschrijver heeft aangeleverd om te bewijzen dat deze in staat is om de opdracht uit te voeren.\n",
      "\n",
      "4. Planning: Rijkswaterstaat hanteert een standaardtermijn van maximaal zes maanden v\u001b[0m\n",
      "\n",
      "\u001b[1m> Finished chain.\u001b[0m\n"
     ]
    }
   ],
   "source": [
    "answer = agent.run(input=\"Vat voor mij de aanbestedingsleidraad voor rijkswaterstaat opdrachten samen in een paar punten.\")"
   ]
  },
  {
   "cell_type": "code",
   "execution_count": 26,
   "id": "1b299419",
   "metadata": {},
   "outputs": [
    {
     "data": {
      "text/markdown": [
       "Volgens Rijkswaterstaat moet een aanmelding voor een contract door de volgende fases gaan:\n",
       "\n",
       "1. Aanmelding: Hierbij dient de inschrijver zich aan te melden voor de opdracht.\n",
       "\n",
       "2. Beoordeling: Rijkswaterstaat beoordeelt de aanmelding op basis van de uitsluitingsgronden, geschiktheidseisen en bewijsmiddelen.\n",
       "\n",
       "3. Selectie: Rijkswaterstaat selecteert de inschrijver die het beste aan de eisen voldoet.\n",
       "\n",
       "4. Gunning: Rijkswaterstaat gunt de opdracht aan de geselecteerde inschrijver."
      ],
      "text/plain": [
       "<IPython.core.display.Markdown object>"
      ]
     },
     "execution_count": 26,
     "metadata": {},
     "output_type": "execute_result"
    }
   ],
   "source": [
    "Markdown(answer)"
   ]
  },
  {
   "cell_type": "code",
   "execution_count": 43,
   "id": "14c7fa5f",
   "metadata": {},
   "outputs": [
    {
     "name": "stdout",
     "output_type": "stream",
     "text": [
      "\n",
      "\n",
      "\u001b[1m> Entering new  chain...\u001b[0m\n",
      "\u001b[32;1m\u001b[1;3m\n",
      "AI: Volgens het aanbestedingsleidraad document voor rijkswaterstaat moeten bij aanmelding de volgende documenten verstrekt worden: een verklaring van deelname, een verklaring van geschiktheid, een verklaring van financiële draagkracht, een verklaring van technische draagkracht, een verklaring van kwaliteit en een verklaring van milieudraagkracht.\u001b[0m\n",
      "\n",
      "\u001b[1m> Finished chain.\u001b[0m\n"
     ]
    }
   ],
   "source": [
    "answer = agent.run(input=\"Welke documenten moeten bij aanmelding verstrek worden volgens het aanbestedingsleidraad document voor rijkswaterstaat?\")"
   ]
  },
  {
   "cell_type": "code",
   "execution_count": null,
   "id": "49cdd858",
   "metadata": {},
   "outputs": [],
   "source": []
  }
 ],
 "metadata": {
  "kernelspec": {
   "display_name": "Python 3 (ipykernel)",
   "language": "python",
   "name": "python3"
  },
  "language_info": {
   "codemirror_mode": {
    "name": "ipython",
    "version": 3
   },
   "file_extension": ".py",
   "mimetype": "text/x-python",
   "name": "python",
   "nbconvert_exporter": "python",
   "pygments_lexer": "ipython3",
   "version": "3.11.3"
  }
 },
 "nbformat": 4,
 "nbformat_minor": 5
}
