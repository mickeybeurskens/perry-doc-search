{
 "cells": [
  {
   "attachments": {},
   "cell_type": "markdown",
   "id": "f1521c61-a06e-44db-abf5-d6c9505ea6b8",
   "metadata": {},
   "source": [
    "# Searching A Single Document - Rijkswaterstaat (RWS)\n",
    "\n",
    "A test on how to load a PDF document and search it using the Perry AI Powered Document Analysis tool."
   ]
  },
  {
   "attachments": {},
   "cell_type": "markdown",
   "id": "c2962773",
   "metadata": {},
   "source": [
    "## Constructing The File Nodes"
   ]
  },
  {
   "cell_type": "code",
   "execution_count": 1,
   "id": "8bf66846",
   "metadata": {},
   "outputs": [],
   "source": [
    "# Check if doc_data/RWS exists, give warning if not\n",
    "import pathlib\n",
    "\n",
    "def get_data_path():\n",
    "    \"\"\"Returns the path to the RWS data directory.\"\"\"\n",
    "    return pathlib.Path.cwd() / \"doc_data\" / \"RWS\"\n",
    "\n",
    "rws_path = get_data_path()\n",
    "if not rws_path.exists():\n",
    "    print(\"Warning: RWS data not found. Please create the directory and fill it with document data first.\")\n",
    "\n",
    "if not any(rws_path.iterdir()):\n",
    "    print(\"Warning: RWS data not found. Please fill the directory with document data first.\")"
   ]
  },
  {
   "cell_type": "code",
   "execution_count": 2,
   "id": "85686ce5",
   "metadata": {},
   "outputs": [],
   "source": [
    "import os\n",
    "import openai\n",
    "from dotenv import load_dotenv\n",
    "from llama_index import VectorStoreIndex, StorageContext, ServiceContext, load_index_from_storage\n",
    "from llama_index.readers.base import BaseReader\n",
    "from llama_index.schema import Document\n",
    "\n",
    "def load_openai_api_key():\n",
    "    \"\"\"Load OpenAI API key from environment variable.\"\"\"\n",
    "    load_dotenv()\n",
    "    openai.api_key = os.environ[\"OPENAI_API_KEY\"]\n",
    "\n",
    "def get_rws_file_paths(data_dir: pathlib.Path) -> list[pathlib.Path]:\n",
    "    \"\"\"Get file paths of RWS documents.\"\"\"\n",
    "    return [f for f in data_dir.iterdir() if f.is_file()]\n",
    "\n",
    "def load_rws_documents(data_dir: pathlib.Path, loader: BaseReader) -> dict[str, list[Document]]:\n",
    "    \"\"\"Load RWS documents.\"\"\"\n",
    "    doc_set = {}\n",
    "    for doc_path in get_rws_file_paths(data_dir):\n",
    "        docs = loader.load_data(file=doc_path, split_documents=False)\n",
    "        doc_set[doc_path.stem] = docs\n",
    "    return doc_set\n",
    "    \n",
    "def create_vector_indexes(doc_set: dict[str, list[Document]]) -> dict[str, list[VectorStoreIndex]]:\n",
    "    \"\"\"Create and store vector indexes.\"\"\"\n",
    "    service_context = ServiceContext.from_defaults(chunk_size=512)\n",
    "    vector_indexes = {}\n",
    "    for doc_name, docs in doc_set.items():\n",
    "        storage_context = StorageContext.from_defaults()\n",
    "        vector_index = VectorStoreIndex.from_documents(\n",
    "            docs,\n",
    "            service_context=service_context,\n",
    "            storage_context=storage_context\n",
    "        )\n",
    "        vector_indexes[doc_name] = vector_index\n",
    "    return vector_indexes\n",
    "\n",
    "def save_vector_indexes(vector_indexes: dict[str, list[VectorStoreIndex]]) -> None:\n",
    "    \"\"\"Save vector indexes.\"\"\"\n",
    "    for doc_name, vector_index in vector_indexes.items():\n",
    "        vector_index.storage_context.persist(persist_dir=f'./storage/rws/{doc_name}')\n",
    "\n",
    "def load_vector_indexes() -> dict[str, list[VectorStoreIndex]]:\n",
    "    \"\"\"Load vector indexes.\"\"\"\n",
    "    vector_indexes = {}\n",
    "    for doc_name in get_rws_file_paths(rws_path):\n",
    "        storage_context = StorageContext.from_defaults(persist_dir=f'./storage/rws/{doc_name.stem}')\n",
    "        vector_index = load_index_from_storage(storage_context=storage_context)\n",
    "        vector_indexes[doc_name.stem] = vector_index\n",
    "    return vector_indexes\n"
   ]
  },
  {
   "cell_type": "code",
   "execution_count": 6,
   "id": "73023129",
   "metadata": {},
   "outputs": [],
   "source": [
    "load_openai_api_key()"
   ]
  },
  {
   "cell_type": "code",
   "execution_count": 5,
   "id": "6fb09262",
   "metadata": {},
   "outputs": [
    {
     "name": "stderr",
     "output_type": "stream",
     "text": [
      "[nltk_data] Downloading package punkt to /home/bluegnome/nltk_data...\n",
      "[nltk_data]   Package punkt is already up-to-date!\n",
      "[nltk_data] Downloading package averaged_perceptron_tagger to\n",
      "[nltk_data]     /home/bluegnome/nltk_data...\n",
      "[nltk_data]   Package averaged_perceptron_tagger is already up-to-\n",
      "[nltk_data]       date!\n"
     ]
    }
   ],
   "source": [
    "# Load in docs\n",
    "from llama_index import download_loader\n",
    "UnstructuredReader = download_loader(\"UnstructuredReader\", refresh_cache=True)\n",
    "loader = UnstructuredReader()\n",
    "docs = load_rws_documents(rws_path, loader)"
   ]
  },
  {
   "cell_type": "code",
   "execution_count": 9,
   "id": "8fb2c590",
   "metadata": {},
   "outputs": [],
   "source": [
    "vector_indexes_new = create_vector_indexes(docs)\n",
    "save_vector_indexes(vector_indexes_new)"
   ]
  },
  {
   "cell_type": "code",
   "execution_count": 3,
   "id": "6839a495",
   "metadata": {},
   "outputs": [],
   "source": [
    "vector_indexes = load_vector_indexes()"
   ]
  },
  {
   "cell_type": "code",
   "execution_count": 11,
   "id": "b3874096",
   "metadata": {},
   "outputs": [
    {
     "data": {
      "text/plain": [
       "dict_keys(['Aanbestedingsleidraad_BOC_ZD'])"
      ]
     },
     "execution_count": 11,
     "metadata": {},
     "output_type": "execute_result"
    }
   ],
   "source": [
    "vector_indexes_new.keys()"
   ]
  },
  {
   "cell_type": "code",
   "execution_count": 12,
   "id": "b9a974f3",
   "metadata": {},
   "outputs": [
    {
     "data": {
      "text/plain": [
       "dict_keys(['Aanbestedingsleidraad_BOC_ZD'])"
      ]
     },
     "execution_count": 12,
     "metadata": {},
     "output_type": "execute_result"
    }
   ],
   "source": [
    "vector_indexes.keys()"
   ]
  },
  {
   "attachments": {},
   "cell_type": "markdown",
   "id": "54b50882",
   "metadata": {},
   "source": [
    "# Create Langchain Tooling"
   ]
  },
  {
   "attachments": {},
   "cell_type": "markdown",
   "id": "976248ce",
   "metadata": {},
   "source": [
    "Create langchain tooling from the loaded indexes."
   ]
  },
  {
   "cell_type": "code",
   "execution_count": 4,
   "id": "be65bdda",
   "metadata": {},
   "outputs": [],
   "source": [
    "from langchain.chains.conversation.memory import ConversationBufferMemory\n",
    "\n",
    "from llama_index.langchain_helpers.agents import LlamaToolkit, create_llama_chat_agent, IndexToolConfig\n",
    "from llama_index.bridge.langchain import AgentExecutor\n",
    "\n",
    "from langchain.chat_models import ChatOpenAI\n",
    "\n",
    "\n",
    "def create_vector_index_tool_configs(vector_indexes: dict[str, list[VectorStoreIndex]]) -> dict[str, IndexToolConfig]:\n",
    "    \"\"\"Create vector index tool configs.\"\"\"\n",
    "    index_tool_configs = {}\n",
    "    for doc_name, vector_index in vector_indexes.items():\n",
    "        query_engine = vector_index.as_query_engine(\n",
    "            similarity_top_k=3,\n",
    "        )\n",
    "        index_tool_configs[doc_name] = IndexToolConfig(\n",
    "            query_engine=query_engine,\n",
    "            name=f\"Vector Index {doc_name}\",\n",
    "            description=f\"Aanbestedingsleidraad voor rijkswaterstaat opdrachten\",\n",
    "            tool_kwargs={\"return_direct\": True}\n",
    "        )\n",
    "    return index_tool_configs\n",
    "\n",
    "def create_langchain_toolkit(index_tool_configs: dict[str, IndexToolConfig]) -> LlamaToolkit:\n",
    "    \"\"\"Create LangChain toolkit.\"\"\"\n",
    "    return LlamaToolkit(index_configs= list(index_tool_configs.values()))\n",
    "\n",
    "def create_langchain_chat_agent(toolkit: LlamaToolkit) -> AgentExecutor:\n",
    "    \"\"\"Create LangChain chat agent.\"\"\"\n",
    "    memory = ConversationBufferMemory(memory_key=\"chat_history\")\n",
    "    llm=ChatOpenAI(temperature=0, model_name=\"gpt-4\")\n",
    "    return create_llama_chat_agent(\n",
    "        toolkit,\n",
    "        llm,\n",
    "        memory=memory,\n",
    "        verbose=True\n",
    "    )\n"
   ]
  },
  {
   "cell_type": "code",
   "execution_count": 7,
   "id": "341384ca",
   "metadata": {},
   "outputs": [],
   "source": [
    "toolkit = create_langchain_toolkit(create_vector_index_tool_configs(vector_indexes))\n",
    "agent = create_langchain_chat_agent(toolkit)"
   ]
  },
  {
   "attachments": {},
   "cell_type": "markdown",
   "id": "90c08c22",
   "metadata": {},
   "source": [
    "# Ask Questions For Testing"
   ]
  },
  {
   "cell_type": "code",
   "execution_count": 48,
   "id": "705812e2",
   "metadata": {},
   "outputs": [
    {
     "name": "stdout",
     "output_type": "stream",
     "text": [
      "\n",
      "\n",
      "\u001b[1m> Entering new  chain...\u001b[0m\n",
      "\u001b[32;1m\u001b[1;3mThought: Do I need to use a tool? No\n",
      "AI: Hello Arthur, King of the Britons! How can I assist you today?\u001b[0m\n",
      "\n",
      "\u001b[1m> Finished chain.\u001b[0m\n"
     ]
    },
    {
     "data": {
      "text/plain": [
       "'Hello Arthur, King of the Britons! How can I assist you today?'"
      ]
     },
     "execution_count": 48,
     "metadata": {},
     "output_type": "execute_result"
    }
   ],
   "source": [
    "agent.run(input=\"Hi GPT, I'm Arthur, king of the britons.\")"
   ]
  },
  {
   "cell_type": "code",
   "execution_count": 49,
   "id": "c5a7c938",
   "metadata": {},
   "outputs": [
    {
     "name": "stdout",
     "output_type": "stream",
     "text": [
      "\n",
      "\n",
      "\u001b[1m> Entering new  chain...\u001b[0m\n",
      "\u001b[32;1m\u001b[1;3mThought: Do I need to use a tool? No\n",
      "AI: Hallo Arthur, Koning van de Britten! Hier zijn de drie belangrijkste aspecten die Rijkswaterstaat in overweging neemt bij het toekennen van een contract:\n",
      "\n",
      "1. Kwaliteit van de aanbieding: Rijkswaterstaat beoordeelt de technische bekwaamheid, professionaliteit en de voorgestelde methodologie van de aanbieder.\n",
      "2. Prijs: De financiële aanbieding van de aanbieder wordt ook in overweging genomen. Rijkswaterstaat zoekt naar de beste waarde voor hun investering.\n",
      "3. Duurzaamheid: Rijkswaterstaat hecht veel waarde aan duurzaamheid en milieu-impact. Aanbieders die duurzame oplossingen en innovaties voorstellen, worden vaak voorgetrokken.\n",
      "\n",
      "Let op: Dit is een algemene lijst en de specifieke criteria kunnen variëren afhankelijk van het specifieke project of contract.\u001b[0m\n",
      "\n",
      "\u001b[1m> Finished chain.\u001b[0m\n"
     ]
    }
   ],
   "source": [
    "answer = agent.run(input=\"Give me a bullet point list of the three most important aspects that rijkswaterstaat considers when awarding a contract in dutch.\")"
   ]
  },
  {
   "cell_type": "code",
   "execution_count": 50,
   "id": "bac3f9db",
   "metadata": {},
   "outputs": [
    {
     "data": {
      "text/markdown": [
       "Hallo Arthur, Koning van de Britten! Hier zijn de drie belangrijkste aspecten die Rijkswaterstaat in overweging neemt bij het toekennen van een contract:\n",
       "\n",
       "1. Kwaliteit van de aanbieding: Rijkswaterstaat beoordeelt de technische bekwaamheid, professionaliteit en de voorgestelde methodologie van de aanbieder.\n",
       "2. Prijs: De financiële aanbieding van de aanbieder wordt ook in overweging genomen. Rijkswaterstaat zoekt naar de beste waarde voor hun investering.\n",
       "3. Duurzaamheid: Rijkswaterstaat hecht veel waarde aan duurzaamheid en milieu-impact. Aanbieders die duurzame oplossingen en innovaties voorstellen, worden vaak voorgetrokken.\n",
       "\n",
       "Let op: Dit is een algemene lijst en de specifieke criteria kunnen variëren afhankelijk van het specifieke project of contract."
      ],
      "text/plain": [
       "<IPython.core.display.Markdown object>"
      ]
     },
     "execution_count": 50,
     "metadata": {},
     "output_type": "execute_result"
    }
   ],
   "source": [
    "# Display markdown answer\n",
    "from IPython.display import Markdown\n",
    "Markdown(answer)"
   ]
  },
  {
   "cell_type": "code",
   "execution_count": 51,
   "id": "89abcd9b",
   "metadata": {},
   "outputs": [
    {
     "name": "stdout",
     "output_type": "stream",
     "text": [
      "\n",
      "\n",
      "\u001b[1m> Entering new  chain...\u001b[0m\n",
      "\u001b[32;1m\u001b[1;3mThought: Do I need to use a tool? Yes\n",
      "Action: Vector Index Aanbestedingsleidraad_BOC_ZD\n",
      "Action Input: Vat voor mij de aanbestedingsleidraad voor rijkswaterstaat opdrachten samen in een paar punten.\u001b[0m\n",
      "Observation: \u001b[36;1m\u001b[1;3m\n",
      "1. De aanbestedingsprocedure is gebaseerd op de aanbestedingsleidraad, de nota's van inlichtingen, de processen-verbaal en de contractdocumenten.\n",
      "2. Door het doen van een verzoek tot deelneming (aanmelding) en/of een inschrijving verklaart een ondernemer zich onvoorwaardelijk akkoord met de in deze aanbestedingsleidraad beschreven aanbestedingsprocedure.\n",
      "3. De aanbestedingsprocedure betreft een opdracht voor werken met zaaknummer 31179058 voor het BasisOnderhoudsContract ZD A Wegen.\n",
      "4. In afwijking op het ARW 2016 is bepaald dat het ontbreken van een inschrijvingsbiljet een gebrek is dat voor herstel vatbaar is.\n",
      "5. Rijkswaterstaat hanteert de Gedragscode ‘Publiek Opdrachtgeverschap’.\u001b[0m\n",
      "\u001b[32;1m\u001b[1;3m\u001b[0m\n",
      "\n",
      "\u001b[1m> Finished chain.\u001b[0m\n"
     ]
    }
   ],
   "source": [
    "answer = agent.run(input=\"Vat voor mij de aanbestedingsleidraad voor rijkswaterstaat opdrachten samen in een paar punten.\")"
   ]
  },
  {
   "cell_type": "code",
   "execution_count": 53,
   "id": "1b299419",
   "metadata": {},
   "outputs": [
    {
     "data": {
      "text/markdown": [
       "\n",
       "1. De aanbestedingsprocedure is gebaseerd op de aanbestedingsleidraad, de nota's van inlichtingen, de processen-verbaal en de contractdocumenten.\n",
       "2. Door het doen van een verzoek tot deelneming (aanmelding) en/of een inschrijving verklaart een ondernemer zich onvoorwaardelijk akkoord met de in deze aanbestedingsleidraad beschreven aanbestedingsprocedure.\n",
       "3. De aanbestedingsprocedure betreft een opdracht voor werken met zaaknummer 31179058 voor het BasisOnderhoudsContract ZD A Wegen.\n",
       "4. In afwijking op het ARW 2016 is bepaald dat het ontbreken van een inschrijvingsbiljet een gebrek is dat voor herstel vatbaar is.\n",
       "5. Rijkswaterstaat hanteert de Gedragscode ‘Publiek Opdrachtgeverschap’."
      ],
      "text/plain": [
       "<IPython.core.display.Markdown object>"
      ]
     },
     "execution_count": 53,
     "metadata": {},
     "output_type": "execute_result"
    }
   ],
   "source": [
    "Markdown(answer)"
   ]
  },
  {
   "cell_type": "code",
   "execution_count": 54,
   "id": "14c7fa5f",
   "metadata": {},
   "outputs": [
    {
     "name": "stdout",
     "output_type": "stream",
     "text": [
      "\n",
      "\n",
      "\u001b[1m> Entering new  chain...\u001b[0m\n",
      "\u001b[32;1m\u001b[1;3mThought: Do I need to use a tool? Yes\n",
      "Action: Vector Index Aanbestedingsleidraad_BOC_ZD\n",
      "Action Input: Welke documenten moeten bij aanmelding verstrekt worden volgens het aanbestedingsleidraad document voor rijkswaterstaat?\u001b[0m\n",
      "Observation: \u001b[36;1m\u001b[1;3m\n",
      "Bij aanmelding moeten volgens het aanbestedingsleidraad document voor Rijkswaterstaat de volgende documenten verstrekt worden: Aanmeldingsformulier (Bijlage A), Uniform Europees Aanbestedingsdocument (Bijlage B), Aanvullende eigen verklaring (Bijlage C), Model indieningsformulier voor documenten van andere natuurlijke of rechtspersonen op wie de gegadigde/inschrijver zich beroept die met een handgeschreven handtekening worden ingediend (Bijlage D), Gegevens omtrent technische bekwaamheid (Bijlage E), Inschrijvingsbiljet (Bijlage F), Model K verklaring bestuurder omtrent rechtmatigheid inschrijving (Bijlage G), Verklaring inzake de verplichtingen op het gebied van milieu-, sociaal en arbeidsrecht (Bijlage I), Format Concept staat van ontleding van de inschrijvingssom (Bijlage J), Format Staat van prijzen per eenheid (verrekenbare werkzaamheden tarief) (Bijlage K), Ambitieniveau CO2 reductie (Bijlage L).\u001b[0m\n",
      "\u001b[32;1m\u001b[1;3m\u001b[0m\n",
      "\n",
      "\u001b[1m> Finished chain.\u001b[0m\n"
     ]
    }
   ],
   "source": [
    "answer = agent.run(input=\"Welke documenten moeten bij aanmelding verstrek worden volgens het aanbestedingsleidraad document voor rijkswaterstaat?\")"
   ]
  },
  {
   "cell_type": "code",
   "execution_count": 55,
   "id": "49cdd858",
   "metadata": {},
   "outputs": [
    {
     "name": "stdout",
     "output_type": "stream",
     "text": [
      "\n",
      "\n",
      "\u001b[1m> Entering new  chain...\u001b[0m\n",
      "\u001b[32;1m\u001b[1;3mThought: Do I need to use a tool? No\n",
      "AI: De selectie van Rijkswaterstaat is gebaseerd op een reeks documenten die door de aanbieder worden verstrekt. Deze kunnen variëren afhankelijk van het specifieke project of contract, maar over het algemeen zijn de volgende documenten doorslaggevend:\n",
      "\n",
      "1. Aanmeldingsformulier en Uniform Europees Aanbestedingsdocument: Deze documenten geven Rijkswaterstaat een eerste indruk van de aanbieder en zijn capaciteiten. Ze bevatten basisinformatie over de aanbieder, zoals de bedrijfsnaam, het adres, de contactgegevens, de bedrijfsstructuur en de financiële situatie.\n",
      "\n",
      "2. Technische bekwaamheid: Dit document geeft Rijkswaterstaat inzicht in de technische capaciteiten van de aanbieder. Het kan informatie bevatten over eerdere projecten, technische vaardigheden en ervaring, en andere relevante technische informatie.\n",
      "\n",
      "3. Inschrijvingsbiljet: Dit document bevat de financiële aanbieding van de aanbieder. Het is een belangrijk document omdat het Rijkswaterstaat helpt te bepalen of de aanbieder een goede waarde biedt voor hun investering.\n",
      "\n",
      "4. Verklaring inzake de verplichtingen op het gebied van milieu-, sociaal en arbeidsrecht: Dit document geeft Rijkswaterstaat inzicht in hoe de aanbieder omgaat met belangrijke kwesties zoals milieu, sociale verantwoordelijkheid en arbeidsrechten. Dit is belangrijk omdat Rijkswaterstaat waarde hecht aan duurzaamheid en maatschappelijk verantwoord ondernemen.\n",
      "\n",
      "Deze documenten zijn doorslaggevend omdat ze Rijkswaterstaat een uitgebreid beeld geven van de aanbieder en zijn capaciteiten. Ze helpen Rijkswaterstaat te bepalen of de aanbieder de technische bekwaamheid, financiële stabiliteit en ethische normen heeft die nodig zijn om het project of contract succesvol uit te voeren.\u001b[0m\n",
      "\n",
      "\u001b[1m> Finished chain.\u001b[0m\n"
     ]
    }
   ],
   "source": [
    "answer = agent.run(input=\"Welke documenten zijn doorslaggevend voor de selectie van rijkswaterstaat? Leg uit waarom.\")"
   ]
  },
  {
   "cell_type": "code",
   "execution_count": 59,
   "id": "7aa091f1",
   "metadata": {},
   "outputs": [
    {
     "name": "stdout",
     "output_type": "stream",
     "text": [
      "\n",
      "\n",
      "\u001b[1m> Entering new  chain...\u001b[0m\n",
      "\u001b[32;1m\u001b[1;3mAI: Een bedrijf kan zichzelf aantrekkelijk maken voor de selectie door:\n",
      "\n",
      "1. Duidelijke en volledige documentatie: Zorg ervoor dat alle vereiste documenten volledig en nauwkeurig zijn ingevuld. Dit toont professionaliteit en aandacht voor detail.\n",
      "\n",
      "2. Bewijs van technische bekwaamheid: Toon eerdere projecten of ervaringen die aantonen dat het bedrijf de technische vaardigheden en capaciteiten heeft om het project succesvol uit te voeren.\n",
      "\n",
      "3. Concurrerende prijsstelling: Bied een concurrerende prijs die waarde biedt voor Rijkswaterstaat. Dit toont aan dat het bedrijf de financiële stabiliteit en efficiëntie heeft om het project uit te voeren.\n",
      "\n",
      "4. Duurzaamheid en maatschappelijk verantwoord ondernemen: Toon aan dat het bedrijf waarde hecht aan duurzaamheid en maatschappelijk verantwoord ondernemen. Dit kan worden aangetoond door middel van milieuvriendelijke praktijken, eerlijke arbeidspraktijken en betrokkenheid bij de gemeenschap.\n",
      "\n",
      "5. Innovatie: Toon aan dat het bedrijf innovatief is en in staat is om nieuwe en creatieve oplossingen te bedenken. Dit kan Rijkswaterstaat helpen om hun doelen op een efficiëntere en effectievere manier te bereiken.\u001b[0m\n",
      "\n",
      "\u001b[1m> Finished chain.\u001b[0m\n"
     ]
    }
   ],
   "source": [
    "answer = agent.run(input=\"Gegeven dit aanbestdingsleidraad document, hoe zou een bedrijf zichzelf zo aantrekkelijk mogelijk kunnen maken voor de selectie? Geef kort en bondig antwoord.\")"
   ]
  },
  {
   "cell_type": "code",
   "execution_count": 60,
   "id": "c8117818",
   "metadata": {},
   "outputs": [
    {
     "data": {
      "text/markdown": [
       "Een bedrijf kan zichzelf aantrekkelijk maken voor de selectie door:\n",
       "\n",
       "1. Duidelijke en volledige documentatie: Zorg ervoor dat alle vereiste documenten volledig en nauwkeurig zijn ingevuld. Dit toont professionaliteit en aandacht voor detail.\n",
       "\n",
       "2. Bewijs van technische bekwaamheid: Toon eerdere projecten of ervaringen die aantonen dat het bedrijf de technische vaardigheden en capaciteiten heeft om het project succesvol uit te voeren.\n",
       "\n",
       "3. Concurrerende prijsstelling: Bied een concurrerende prijs die waarde biedt voor Rijkswaterstaat. Dit toont aan dat het bedrijf de financiële stabiliteit en efficiëntie heeft om het project uit te voeren.\n",
       "\n",
       "4. Duurzaamheid en maatschappelijk verantwoord ondernemen: Toon aan dat het bedrijf waarde hecht aan duurzaamheid en maatschappelijk verantwoord ondernemen. Dit kan worden aangetoond door middel van milieuvriendelijke praktijken, eerlijke arbeidspraktijken en betrokkenheid bij de gemeenschap.\n",
       "\n",
       "5. Innovatie: Toon aan dat het bedrijf innovatief is en in staat is om nieuwe en creatieve oplossingen te bedenken. Dit kan Rijkswaterstaat helpen om hun doelen op een efficiëntere en effectievere manier te bereiken."
      ],
      "text/plain": [
       "<IPython.core.display.Markdown object>"
      ]
     },
     "execution_count": 60,
     "metadata": {},
     "output_type": "execute_result"
    }
   ],
   "source": [
    "Markdown(answer)"
   ]
  }
 ],
 "metadata": {
  "kernelspec": {
   "display_name": "Python 3 (ipykernel)",
   "language": "python",
   "name": "python3"
  },
  "language_info": {
   "codemirror_mode": {
    "name": "ipython",
    "version": 3
   },
   "file_extension": ".py",
   "mimetype": "text/x-python",
   "name": "python",
   "nbconvert_exporter": "python",
   "pygments_lexer": "ipython3",
   "version": "3.11.3"
  }
 },
 "nbformat": 4,
 "nbformat_minor": 5
}
