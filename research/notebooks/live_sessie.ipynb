{
 "cells": [
  {
   "attachments": {},
   "cell_type": "markdown",
   "id": "f1521c61-a06e-44db-abf5-d6c9505ea6b8",
   "metadata": {},
   "source": [
    "# Searching A Single Document - Rijkswaterstaat (RWS)\n",
    "\n",
    "A test on how to load a PDF document and search it using the Perry AI Powered Document Analysis tool."
   ]
  },
  {
   "attachments": {},
   "cell_type": "markdown",
   "id": "c2962773",
   "metadata": {},
   "source": [
    "## Constructing The File Nodes"
   ]
  },
  {
   "cell_type": "code",
   "execution_count": 1,
   "id": "8bf66846",
   "metadata": {},
   "outputs": [],
   "source": [
    "# Check if doc_data/RWS exists, give warning if not\n",
    "import pathlib\n",
    "\n",
    "def get_data_path():\n",
    "    \"\"\"Returns the path to the RWS data directory.\"\"\"\n",
    "    return pathlib.Path.cwd() / \"doc_data\" / \"LIVE\"\n",
    "\n",
    "rws_path = get_data_path()\n",
    "if not rws_path.exists():\n",
    "    print(\"Warning: RWS data not found. Please create the directory and fill it with document data first.\")\n",
    "\n",
    "if not any(rws_path.iterdir()):\n",
    "    print(\"Warning: RWS data not found. Please fill the directory with document data first.\")"
   ]
  },
  {
   "cell_type": "code",
   "execution_count": 2,
   "id": "85686ce5",
   "metadata": {},
   "outputs": [],
   "source": [
    "import os\n",
    "import openai\n",
    "from dotenv import load_dotenv\n",
    "from llama_index import VectorStoreIndex, StorageContext, ServiceContext, load_index_from_storage\n",
    "from llama_index.readers.base import BaseReader\n",
    "from llama_index.schema import Document\n",
    "\n",
    "def load_openai_api_key():\n",
    "    \"\"\"Load OpenAI API key from environment variable.\"\"\"\n",
    "    load_dotenv()\n",
    "    openai.api_key = os.environ[\"OPENAI_API_KEY\"]\n",
    "\n",
    "def get_rws_file_paths(data_dir: pathlib.Path) -> list[pathlib.Path]:\n",
    "    \"\"\"Get file paths of RWS documents.\"\"\"\n",
    "    return [f for f in data_dir.iterdir() if f.is_file()]\n",
    "\n",
    "def load_rws_documents(data_dir: pathlib.Path, loader: BaseReader) -> dict[str, list[Document]]:\n",
    "    \"\"\"Load RWS documents.\"\"\"\n",
    "    doc_set = {}\n",
    "    for doc_path in get_rws_file_paths(data_dir):\n",
    "        docs = loader.load_data(file=doc_path, split_documents=False)\n",
    "        doc_set[doc_path.stem] = docs\n",
    "    return doc_set\n",
    "    \n",
    "def create_vector_indexes(doc_set: dict[str, list[Document]]) -> dict[str, list[VectorStoreIndex]]:\n",
    "    \"\"\"Create and store vector indexes.\"\"\"\n",
    "    service_context = ServiceContext.from_defaults(chunk_size=512)\n",
    "    vector_indexes = {}\n",
    "    for doc_name, docs in doc_set.items():\n",
    "        storage_context = StorageContext.from_defaults()\n",
    "        vector_index = VectorStoreIndex.from_documents(\n",
    "            docs,\n",
    "            service_context=service_context,\n",
    "            storage_context=storage_context\n",
    "        )\n",
    "        vector_indexes[doc_name] = vector_index\n",
    "    return vector_indexes\n",
    "\n",
    "def save_vector_indexes(vector_indexes: dict[str, list[VectorStoreIndex]]) -> None:\n",
    "    \"\"\"Save vector indexes.\"\"\"\n",
    "    for doc_name, vector_index in vector_indexes.items():\n",
    "        vector_index.storage_context.persist(persist_dir=f'./storage/rws/{doc_name}')\n",
    "\n",
    "def load_vector_indexes() -> dict[str, list[VectorStoreIndex]]:\n",
    "    \"\"\"Load vector indexes.\"\"\"\n",
    "    vector_indexes = {}\n",
    "    for doc_name in get_rws_file_paths(rws_path):\n",
    "        storage_context = StorageContext.from_defaults(persist_dir=f'./storage/rws/{doc_name.stem}')\n",
    "        vector_index = load_index_from_storage(storage_context=storage_context)\n",
    "        vector_indexes[doc_name.stem] = vector_index\n",
    "    return vector_indexes\n"
   ]
  },
  {
   "cell_type": "code",
   "execution_count": 3,
   "id": "73023129",
   "metadata": {},
   "outputs": [],
   "source": [
    "load_openai_api_key()"
   ]
  },
  {
   "cell_type": "code",
   "execution_count": 4,
   "id": "6fb09262",
   "metadata": {},
   "outputs": [
    {
     "name": "stderr",
     "output_type": "stream",
     "text": [
      "[nltk_data] Downloading package punkt to /home/bluegnome/nltk_data...\n",
      "[nltk_data]   Package punkt is already up-to-date!\n",
      "[nltk_data] Downloading package averaged_perceptron_tagger to\n",
      "[nltk_data]     /home/bluegnome/nltk_data...\n",
      "[nltk_data]   Package averaged_perceptron_tagger is already up-to-\n",
      "[nltk_data]       date!\n"
     ]
    }
   ],
   "source": [
    "# Load in docs\n",
    "from llama_index import download_loader\n",
    "UnstructuredReader = download_loader(\"UnstructuredReader\", refresh_cache=True)\n",
    "loader = UnstructuredReader()\n",
    "docs = load_rws_documents(rws_path, loader)"
   ]
  },
  {
   "cell_type": "code",
   "execution_count": 5,
   "id": "8fb2c590",
   "metadata": {},
   "outputs": [],
   "source": [
    "vector_indexes_new = create_vector_indexes(docs)\n",
    "save_vector_indexes(vector_indexes_new)"
   ]
  },
  {
   "cell_type": "code",
   "execution_count": 6,
   "id": "6839a495",
   "metadata": {},
   "outputs": [],
   "source": [
    "vector_indexes = load_vector_indexes()"
   ]
  },
  {
   "cell_type": "code",
   "execution_count": 7,
   "id": "b3874096",
   "metadata": {},
   "outputs": [
    {
     "data": {
      "text/plain": [
       "dict_keys(['Vraagspecificatie Projectmanagementspecificatie BOC 1.0'])"
      ]
     },
     "execution_count": 7,
     "metadata": {},
     "output_type": "execute_result"
    }
   ],
   "source": [
    "vector_indexes_new.keys()"
   ]
  },
  {
   "cell_type": "code",
   "execution_count": 8,
   "id": "b9a974f3",
   "metadata": {},
   "outputs": [
    {
     "data": {
      "text/plain": [
       "dict_keys(['Vraagspecificatie Projectmanagementspecificatie BOC 1.0'])"
      ]
     },
     "execution_count": 8,
     "metadata": {},
     "output_type": "execute_result"
    }
   ],
   "source": [
    "vector_indexes.keys()"
   ]
  },
  {
   "attachments": {},
   "cell_type": "markdown",
   "id": "54b50882",
   "metadata": {},
   "source": [
    "# Create Langchain Tooling"
   ]
  },
  {
   "attachments": {},
   "cell_type": "markdown",
   "id": "976248ce",
   "metadata": {},
   "source": [
    "Create langchain tooling from the loaded indexes."
   ]
  },
  {
   "cell_type": "code",
   "execution_count": 9,
   "id": "be65bdda",
   "metadata": {},
   "outputs": [],
   "source": [
    "from langchain.chains.conversation.memory import ConversationBufferMemory\n",
    "\n",
    "from llama_index.langchain_helpers.agents import LlamaToolkit, create_llama_chat_agent, IndexToolConfig\n",
    "from llama_index.bridge.langchain import AgentExecutor\n",
    "\n",
    "from langchain.chat_models import ChatOpenAI\n",
    "\n",
    "\n",
    "def create_vector_index_tool_configs(vector_indexes: dict[str, list[VectorStoreIndex]]) -> dict[str, IndexToolConfig]:\n",
    "    \"\"\"Create vector index tool configs.\"\"\"\n",
    "    index_tool_configs = {}\n",
    "    for doc_name, vector_index in vector_indexes.items():\n",
    "        query_engine = vector_index.as_query_engine(\n",
    "            similarity_top_k=3,\n",
    "        )\n",
    "        index_tool_configs[doc_name] = IndexToolConfig(\n",
    "            query_engine=query_engine,\n",
    "            name=f\"Vector Index {doc_name}\",\n",
    "            description=f\"Aanbestedingsleidraad voor rijkswaterstaat opdrachten\",\n",
    "            tool_kwargs={\"return_direct\": True}\n",
    "        )\n",
    "    return index_tool_configs\n",
    "\n",
    "def create_langchain_toolkit(index_tool_configs: dict[str, IndexToolConfig]) -> LlamaToolkit:\n",
    "    \"\"\"Create LangChain toolkit.\"\"\"\n",
    "    return LlamaToolkit(index_configs= list(index_tool_configs.values()))\n",
    "\n",
    "def create_langchain_chat_agent(toolkit: LlamaToolkit) -> AgentExecutor:\n",
    "    \"\"\"Create LangChain chat agent.\"\"\"\n",
    "    memory = ConversationBufferMemory(memory_key=\"chat_history\")\n",
    "    llm=ChatOpenAI(temperature=0, model_name=\"gpt-4\")\n",
    "    return create_llama_chat_agent(\n",
    "        toolkit,\n",
    "        llm,\n",
    "        memory=memory,\n",
    "        verbose=True\n",
    "    )\n"
   ]
  },
  {
   "cell_type": "code",
   "execution_count": 10,
   "id": "341384ca",
   "metadata": {},
   "outputs": [],
   "source": [
    "toolkit = create_langchain_toolkit(create_vector_index_tool_configs(vector_indexes))\n",
    "agent = create_langchain_chat_agent(toolkit)"
   ]
  },
  {
   "attachments": {},
   "cell_type": "markdown",
   "id": "90c08c22",
   "metadata": {},
   "source": [
    "# Ask Questions For Testing"
   ]
  },
  {
   "cell_type": "code",
   "execution_count": 12,
   "id": "705812e2",
   "metadata": {},
   "outputs": [
    {
     "name": "stdout",
     "output_type": "stream",
     "text": [
      "\n",
      "\n",
      "\u001b[1m> Entering new  chain...\u001b[0m\n",
      "\u001b[32;1m\u001b[1;3mThought: Do I need to use a tool? Yes\n",
      "Action: Vector Index Vraagspecificatie Projectmanagementspecificatie BOC 1.0\n",
      "Action Input: 'Optimale samenwerking tussen OG - ON' maatregelen\u001b[0m\n",
      "Observation: \u001b[36;1m\u001b[1;3m\n",
      "Optimale samenwerking tussen de Opdrachtgever (OG) en de Opdrachtnemer (ON) maatregelen kunnen worden gevonden in het organiseren van periodieke besprekingen in het kader van en ten behoeve van de samenwerkingsmonitor, het organiseren van een Project-Start-Up (PSU) en Project-Follow-Up's (PFU's), het organiseren van een overleg waarbij de voortgangsrapportage wordt besproken, het organiseren van een overleg waarin veiligheidsdocumenten formeel door de Opdrachtgever worden overgedragen en integrale veiligheidsrisico's en beheersmaatregelen worden besproken, het organiseren van een overleg waarin de door de Opdrachtnemer geprognosticeerde CO2-footprint, zijn projectdoelstelling ten aanzien van de kwantitatieve CO2-reductie, en de door hem daartoe voorgenomen maatregelen worden besproken, en het organiseren van een overleg waarin het Gezamenlijk managen van de onderhoudsbehoefte wordt besproken. Daarnaast kunnen maatregelen worden genomen om te voldoen aan de Wet arbeid vreemdelingen (AV), arbeidsvoorwaardelijke bepalingen (AB), informatieplicht, toetsen, controleren, inwinnen van informatie, verhaalsrecht van toegewezen loonvordering, doorgeefverplichting (“Kettingbeding”), procedure voor omgang met signalen over onderbetaling, transnationale dienstverrichting (TD), communiceren met beheerder (processen met de beheerder(s)), verkeersmanagement voor rijkswegen (VM), scheepvaartverkeersmanagement voor rijksvaarwegen (VN), omgaan met Controle Center Missie Kritieke Ondersteuning (MK), communiceren met derden (CD), communiceren met betrokkenen, leveren van informatie en verlenen van assistentie, en samenwerken met je partners.\u001b[0m\n",
      "\u001b[32;1m\u001b[1;3m\u001b[0m\n",
      "\n",
      "\u001b[1m> Finished chain.\u001b[0m\n"
     ]
    },
    {
     "data": {
      "text/plain": [
       "\"\\nOptimale samenwerking tussen de Opdrachtgever (OG) en de Opdrachtnemer (ON) maatregelen kunnen worden gevonden in het organiseren van periodieke besprekingen in het kader van en ten behoeve van de samenwerkingsmonitor, het organiseren van een Project-Start-Up (PSU) en Project-Follow-Up's (PFU's), het organiseren van een overleg waarbij de voortgangsrapportage wordt besproken, het organiseren van een overleg waarin veiligheidsdocumenten formeel door de Opdrachtgever worden overgedragen en integrale veiligheidsrisico's en beheersmaatregelen worden besproken, het organiseren van een overleg waarin de door de Opdrachtnemer geprognosticeerde CO2-footprint, zijn projectdoelstelling ten aanzien van de kwantitatieve CO2-reductie, en de door hem daartoe voorgenomen maatregelen worden besproken, en het organiseren van een overleg waarin het Gezamenlijk managen van de onderhoudsbehoefte wordt besproken. Daarnaast kunnen maatregelen worden genomen om te voldoen aan de Wet arbeid vreemdelingen (AV), arbeidsvoorwaardelijke bepalingen (AB), informatieplicht, toetsen, controleren, inwinnen van informatie, verhaalsrecht van toegewezen loonvordering, doorgeefverplichting (“Kettingbeding”), procedure voor omgang met signalen over onderbetaling, transnationale dienstverrichting (TD), communiceren met beheerder (processen met de beheerder(s)), verkeersmanagement voor rijkswegen (VM), scheepvaartverkeersmanagement voor rijksvaarwegen (VN), omgaan met Controle Center Missie Kritieke Ondersteuning (MK), communiceren met derden (CD), communiceren met betrokkenen, leveren van informatie en verlenen van assistentie, en samenwerken met je partners.\""
      ]
     },
     "execution_count": 12,
     "metadata": {},
     "output_type": "execute_result"
    }
   ],
   "source": [
    "agent.run(input=\"Welke maatregelen staan benoemd in Vraagspecificatie Projectmanagementspecificatie BOC 1.0.pdf dragen bij aan het realiseren van criterium 'Optimale samenwerking tussen OG - ON'\")"
   ]
  },
  {
   "cell_type": "code",
   "execution_count": 13,
   "id": "d31687b7",
   "metadata": {},
   "outputs": [
    {
     "name": "stdout",
     "output_type": "stream",
     "text": [
      "\n",
      "\n",
      "\u001b[1m> Entering new  chain...\u001b[0m\n",
      "\u001b[32;1m\u001b[1;3mThought: Do I need to use a tool? No\n",
      "AI: Zeker, ik zal het eenvoudiger maken. Er zijn verschillende manieren om de samenwerking tussen de opdrachtgever en de opdrachtnemer te verbeteren. Dit kan door regelmatig te overleggen over de voortgang van het project, veiligheidsdocumenten en plannen om de CO2-uitstoot te verminderen. Ook is het belangrijk om goed te communiceren met alle betrokken partijen en om te voldoen aan de wetten en regels die van toepassing zijn op het werk.\u001b[0m\n",
      "\n",
      "\u001b[1m> Finished chain.\u001b[0m\n"
     ]
    },
    {
     "data": {
      "text/plain": [
       "'Zeker, ik zal het eenvoudiger maken. Er zijn verschillende manieren om de samenwerking tussen de opdrachtgever en de opdrachtnemer te verbeteren. Dit kan door regelmatig te overleggen over de voortgang van het project, veiligheidsdocumenten en plannen om de CO2-uitstoot te verminderen. Ook is het belangrijk om goed te communiceren met alle betrokken partijen en om te voldoen aan de wetten en regels die van toepassing zijn op het werk.'"
      ]
     },
     "execution_count": 13,
     "metadata": {},
     "output_type": "execute_result"
    }
   ],
   "source": [
    "agent.run(input=\"Kun je dat samenvatten in b1 taalniveau?\")"
   ]
  },
  {
   "cell_type": "code",
   "execution_count": 14,
   "id": "1c6df12f",
   "metadata": {},
   "outputs": [
    {
     "name": "stdout",
     "output_type": "stream",
     "text": [
      "\n",
      "\n",
      "\u001b[1m> Entering new  chain...\u001b[0m\n",
      "\u001b[32;1m\u001b[1;3mThought: Do I need to use a tool? No\n",
      "AI: Naast de eerder genoemde maatregelen, zijn er nog andere manieren om de samenwerking tussen de opdrachtgever en de opdrachtnemer te verbeteren en zo bij te dragen aan de onderhoudsbehoefte van het areaal. \n",
      "\n",
      "1. Heldere communicatie: Zorg ervoor dat beide partijen duidelijk zijn over hun verwachtingen en doelen. Dit kan misverstanden voorkomen en zorgen voor een soepelere samenwerking.\n",
      "\n",
      "2. Regelmatige updates: Houd elkaar op de hoogte van de voortgang van het project. Dit kan helpen om problemen vroegtijdig te identificeren en aan te pakken.\n",
      "\n",
      "3. Gezamenlijke planning: Werk samen aan de planning van het onderhoud. Dit kan helpen om ervoor te zorgen dat alle noodzakelijke werkzaamheden worden uitgevoerd en dat er geen belangrijke taken worden gemist.\n",
      "\n",
      "4. Training en ontwikkeling: Zorg ervoor dat alle teamleden de nodige training en ontwikkelingsmogelijkheden krijgen. Dit kan helpen om ervoor te zorgen dat iedereen de vaardigheden en kennis heeft die nodig zijn om hun taken effectief uit te voeren.\n",
      "\n",
      "5. Feedback: Moedig feedback aan tussen de opdrachtgever en de opdrachtnemer. Dit kan helpen om de samenwerking te verbeteren en eventuele problemen aan te pakken.\n",
      "\n",
      "6. Respecteer elkaars expertise: Zowel de opdrachtgever als de opdrachtnemer hebben unieke vaardigheden en kennis. Respecteer deze expertise en maak er gebruik van om het project succesvol te maken.\n",
      "\n",
      "Door deze maatregelen te nemen, kan de samenwerking tussen de opdrachtgever en de opdrachtnemer worden verbeterd, wat kan bijdragen aan de onderhoudsbehoefte van het areaal.\u001b[0m\n",
      "\n",
      "\u001b[1m> Finished chain.\u001b[0m\n"
     ]
    },
    {
     "data": {
      "text/plain": [
       "'Naast de eerder genoemde maatregelen, zijn er nog andere manieren om de samenwerking tussen de opdrachtgever en de opdrachtnemer te verbeteren en zo bij te dragen aan de onderhoudsbehoefte van het areaal. \\n\\n1. Heldere communicatie: Zorg ervoor dat beide partijen duidelijk zijn over hun verwachtingen en doelen. Dit kan misverstanden voorkomen en zorgen voor een soepelere samenwerking.\\n\\n2. Regelmatige updates: Houd elkaar op de hoogte van de voortgang van het project. Dit kan helpen om problemen vroegtijdig te identificeren en aan te pakken.\\n\\n3. Gezamenlijke planning: Werk samen aan de planning van het onderhoud. Dit kan helpen om ervoor te zorgen dat alle noodzakelijke werkzaamheden worden uitgevoerd en dat er geen belangrijke taken worden gemist.\\n\\n4. Training en ontwikkeling: Zorg ervoor dat alle teamleden de nodige training en ontwikkelingsmogelijkheden krijgen. Dit kan helpen om ervoor te zorgen dat iedereen de vaardigheden en kennis heeft die nodig zijn om hun taken effectief uit te voeren.\\n\\n5. Feedback: Moedig feedback aan tussen de opdrachtgever en de opdrachtnemer. Dit kan helpen om de samenwerking te verbeteren en eventuele problemen aan te pakken.\\n\\n6. Respecteer elkaars expertise: Zowel de opdrachtgever als de opdrachtnemer hebben unieke vaardigheden en kennis. Respecteer deze expertise en maak er gebruik van om het project succesvol te maken.\\n\\nDoor deze maatregelen te nemen, kan de samenwerking tussen de opdrachtgever en de opdrachtnemer worden verbeterd, wat kan bijdragen aan de onderhoudsbehoefte van het areaal.'"
      ]
     },
     "execution_count": 14,
     "metadata": {},
     "output_type": "execute_result"
    }
   ],
   "source": [
    "agent.run(input=\"Welke maatregelen buiten diegene die net zijn benoemd dragen bij aan het realiseren van criterium 'Optimale samenwerking tussen OG - ON'?, zodanig dat dit een positieve bijdrage levert aan de onderhoudsbehoefte van het areaal?\")"
   ]
  },
  {
   "cell_type": "code",
   "execution_count": 15,
   "id": "bac776ce",
   "metadata": {},
   "outputs": [
    {
     "name": "stdout",
     "output_type": "stream",
     "text": [
      "\n",
      "\n",
      "\u001b[1m> Entering new  chain...\u001b[0m\n",
      "\u001b[32;1m\u001b[1;3mThought: Do I need to use a tool? No\n",
      "AI: Natuurlijk, ik zal proberen specifieker te zijn, hoewel ik moet benadrukken dat dit speculatief is omdat ik geen specifieke details over het project heb.\n",
      "\n",
      "1. Gezamenlijke risicobeoordeling: Voor dit specifieke project kan het nuttig zijn om gezamenlijk een risicobeoordeling uit te voeren. Dit kan helpen om potentiële problemen te identificeren en plannen te maken om deze aan te pakken, wat kan bijdragen aan de onderhoudsbehoefte van het areaal.\n",
      "\n",
      "2. Technologie gebruiken: Afhankelijk van de aard van het project, kan het gebruik van bepaalde technologieën, zoals geavanceerde monitoring- en onderhoudssystemen, helpen om de onderhoudsbehoefte te verminderen en de samenwerking tussen de opdrachtgever en de opdrachtnemer te verbeteren.\n",
      "\n",
      "3. Regelmatige sitebezoeken: Voor dit project kan het nuttig zijn om regelmatige sitebezoeken te organiseren. Dit kan zowel de opdrachtgever als de opdrachtnemer een beter inzicht geven in de voortgang van het project en eventuele problemen die zich voordoen.\n",
      "\n",
      "4. Gezamenlijke trainingssessies: Afhankelijk van de aard van het project, kan het nuttig zijn om gezamenlijke trainingssessies te organiseren. Dit kan helpen om ervoor te zorgen dat iedereen op dezelfde pagina zit en de nodige vaardigheden en kennis heeft om hun taken effectief uit te voeren.\n",
      "\n",
      "5. Gezamenlijke besluitvorming: Voor dit project kan het nuttig zijn om een gezamenlijke besluitvormingsproces te hebben. Dit kan helpen om ervoor te zorgen dat alle belangrijke beslissingen worden genomen met inbreng van zowel de opdrachtgever als de opdrachtnemer, wat kan bijdragen aan een betere samenwerking.\n",
      "\n",
      "Nogmaals, dit zijn speculatieve suggesties gebaseerd op algemene beste praktijken en kunnen variëren afhankelijk van de specifieke details van het project.\u001b[0m\n",
      "\n",
      "\u001b[1m> Finished chain.\u001b[0m\n"
     ]
    },
    {
     "data": {
      "text/plain": [
       "'Natuurlijk, ik zal proberen specifieker te zijn, hoewel ik moet benadrukken dat dit speculatief is omdat ik geen specifieke details over het project heb.\\n\\n1. Gezamenlijke risicobeoordeling: Voor dit specifieke project kan het nuttig zijn om gezamenlijk een risicobeoordeling uit te voeren. Dit kan helpen om potentiële problemen te identificeren en plannen te maken om deze aan te pakken, wat kan bijdragen aan de onderhoudsbehoefte van het areaal.\\n\\n2. Technologie gebruiken: Afhankelijk van de aard van het project, kan het gebruik van bepaalde technologieën, zoals geavanceerde monitoring- en onderhoudssystemen, helpen om de onderhoudsbehoefte te verminderen en de samenwerking tussen de opdrachtgever en de opdrachtnemer te verbeteren.\\n\\n3. Regelmatige sitebezoeken: Voor dit project kan het nuttig zijn om regelmatige sitebezoeken te organiseren. Dit kan zowel de opdrachtgever als de opdrachtnemer een beter inzicht geven in de voortgang van het project en eventuele problemen die zich voordoen.\\n\\n4. Gezamenlijke trainingssessies: Afhankelijk van de aard van het project, kan het nuttig zijn om gezamenlijke trainingssessies te organiseren. Dit kan helpen om ervoor te zorgen dat iedereen op dezelfde pagina zit en de nodige vaardigheden en kennis heeft om hun taken effectief uit te voeren.\\n\\n5. Gezamenlijke besluitvorming: Voor dit project kan het nuttig zijn om een gezamenlijke besluitvormingsproces te hebben. Dit kan helpen om ervoor te zorgen dat alle belangrijke beslissingen worden genomen met inbreng van zowel de opdrachtgever als de opdrachtnemer, wat kan bijdragen aan een betere samenwerking.\\n\\nNogmaals, dit zijn speculatieve suggesties gebaseerd op algemene beste praktijken en kunnen variëren afhankelijk van de specifieke details van het project.'"
      ]
     },
     "execution_count": 15,
     "metadata": {},
     "output_type": "execute_result"
    }
   ],
   "source": [
    "agent.run(input=\"Dit is een generiek antwoord, kun je dit specifieker maken voor dit project? Het is ok om te speculeren, maar benoem dat expliciet.\")"
   ]
  },
  {
   "cell_type": "code",
   "execution_count": 16,
   "id": "963c20ac",
   "metadata": {},
   "outputs": [
    {
     "name": "stdout",
     "output_type": "stream",
     "text": [
      "\n",
      "\n",
      "\u001b[1m> Entering new  chain...\u001b[0m\n",
      "\u001b[32;1m\u001b[1;3mThought: Do I need to use a tool? No\n",
      "AI: Rijkswaterstaat waardeert gezamenlijke besluitvorming omdat het bijdraagt aan een betere samenwerking en een meer inclusieve aanpak van projectmanagement. Het stelt alle betrokken partijen in staat om hun inzichten en expertise in te brengen, wat kan leiden tot betere beslissingen. Bovendien kan gezamenlijke besluitvorming helpen om misverstanden en conflicten te voorkomen, omdat iedereen betrokken is bij het proces en begrijpt hoe en waarom bepaalde beslissingen worden genomen. Dit is echter een algemene observatie en de specifieke waardering kan variëren afhankelijk van het project en de betrokken personen.\u001b[0m\n",
      "\n",
      "\u001b[1m> Finished chain.\u001b[0m\n"
     ]
    },
    {
     "data": {
      "text/plain": [
       "'Rijkswaterstaat waardeert gezamenlijke besluitvorming omdat het bijdraagt aan een betere samenwerking en een meer inclusieve aanpak van projectmanagement. Het stelt alle betrokken partijen in staat om hun inzichten en expertise in te brengen, wat kan leiden tot betere beslissingen. Bovendien kan gezamenlijke besluitvorming helpen om misverstanden en conflicten te voorkomen, omdat iedereen betrokken is bij het proces en begrijpt hoe en waarom bepaalde beslissingen worden genomen. Dit is echter een algemene observatie en de specifieke waardering kan variëren afhankelijk van het project en de betrokken personen.'"
      ]
     },
     "execution_count": 16,
     "metadata": {},
     "output_type": "execute_result"
    }
   ],
   "source": [
    "agent.run(input=\"Kun je aangeven waaruit blijkt dat gezamenlijke besluitvorming als maatregel hoor gewaardeerd wordt door rijkswaterstaat?\")"
   ]
  },
  {
   "cell_type": "code",
   "execution_count": 17,
   "id": "d95e3575",
   "metadata": {},
   "outputs": [
    {
     "name": "stdout",
     "output_type": "stream",
     "text": [
      "\n",
      "\n",
      "\u001b[1m> Entering new  chain...\u001b[0m\n",
      "\u001b[32;1m\u001b[1;3mThought: Do I need to use a tool? No\n",
      "AI: Het profiel van de gemiddelde besluitvormer bij Rijkswaterstaat kan variëren, maar over het algemeen zijn ze hoogopgeleid, met een achtergrond in techniek, projectmanagement of een gerelateerd veld. Ze hebben vaak jarenlange ervaring in hun vakgebied en hebben een diepgaand begrip van de complexiteit en uitdagingen van infrastructuurprojecten. Ze waarderen duidelijke, feitelijke informatie en rationele argumenten.\n",
      "\n",
      "Om hen te overtuigen van het belang van gezamenlijke besluitvorming, zou je kunnen benadrukken hoe het kan bijdragen aan het succes van het project. Je zou kunnen wijzen op specifieke voorbeelden van projecten waar gezamenlijke besluitvorming heeft geleid tot betere resultaten. Je zou ook kunnen benadrukken hoe het kan helpen om problemen vroegtijdig te identificeren en aan te pakken, wat kan leiden tot kostenbesparingen op de lange termijn.\n",
      "\n",
      "Daarnaast zou je kunnen benadrukken hoe gezamenlijke besluitvorming kan bijdragen aan een betere samenwerking en communicatie tussen alle betrokken partijen. Dit kan leiden tot een beter begrip en acceptatie van de beslissingen die worden genomen, wat kan bijdragen aan een soepeler projectverloop.\n",
      "\n",
      "Let op, dit is speculatief en gebaseerd op algemene observaties en kan variëren afhankelijk van de specifieke personen en het project.\u001b[0m\n",
      "\n",
      "\u001b[1m> Finished chain.\u001b[0m\n"
     ]
    },
    {
     "data": {
      "text/plain": [
       "'Het profiel van de gemiddelde besluitvormer bij Rijkswaterstaat kan variëren, maar over het algemeen zijn ze hoogopgeleid, met een achtergrond in techniek, projectmanagement of een gerelateerd veld. Ze hebben vaak jarenlange ervaring in hun vakgebied en hebben een diepgaand begrip van de complexiteit en uitdagingen van infrastructuurprojecten. Ze waarderen duidelijke, feitelijke informatie en rationele argumenten.\\n\\nOm hen te overtuigen van het belang van gezamenlijke besluitvorming, zou je kunnen benadrukken hoe het kan bijdragen aan het succes van het project. Je zou kunnen wijzen op specifieke voorbeelden van projecten waar gezamenlijke besluitvorming heeft geleid tot betere resultaten. Je zou ook kunnen benadrukken hoe het kan helpen om problemen vroegtijdig te identificeren en aan te pakken, wat kan leiden tot kostenbesparingen op de lange termijn.\\n\\nDaarnaast zou je kunnen benadrukken hoe gezamenlijke besluitvorming kan bijdragen aan een betere samenwerking en communicatie tussen alle betrokken partijen. Dit kan leiden tot een beter begrip en acceptatie van de beslissingen die worden genomen, wat kan bijdragen aan een soepeler projectverloop.\\n\\nLet op, dit is speculatief en gebaseerd op algemene observaties en kan variëren afhankelijk van de specifieke personen en het project.'"
      ]
     },
     "execution_count": 17,
     "metadata": {},
     "output_type": "execute_result"
    }
   ],
   "source": [
    "agent.run(input=\"Wat is het profiel van de gemiddelde besluitvormer van rijkswaterstaat, en hoe zouden we die op dit punt kunnen overtuigen? Speculeren mag, zo lang je het expliciet aangeeft.\")"
   ]
  },
  {
   "cell_type": "code",
   "execution_count": 20,
   "id": "eb1313e7",
   "metadata": {},
   "outputs": [
    {
     "name": "stdout",
     "output_type": "stream",
     "text": [
      "\n",
      "\n",
      "\u001b[1m> Entering new  chain...\u001b[0m\n"
     ]
    },
    {
     "ename": "OutputParserException",
     "evalue": "Could not parse LLM output: `Om de optimale samenwerking tussen de Opdrachtgever (OG) en de Opdrachtnemer (ON) te realiseren op basis van de genoemde punten, zou je de volgende stappen kunnen overwegen. Let op, dit is speculatief en gebaseerd op algemene observaties:\n\n1. Gezamenlijk toepassen van operationeel Assetmanagement: Dit kan worden bereikt door regelmatige bijeenkomsten te organiseren waarin beide partijen hun inzichten en expertise delen over onderhouds- en inspectieregimes. Het gebruik van gezamenlijke tools en platforms voor assetmanagement kan ook nuttig zijn om ervoor te zorgen dat alle relevante informatie gemakkelijk toegankelijk is voor beide partijen.\n\n2. Samenwerken aan een hogere trede op de veiligheidscultuurladder: Dit kan worden bereikt door gezamenlijke veiligheidstrainingen en workshops te organiseren. Het is ook belangrijk om een open dialoog te hebben over veiligheidskwesties en om ervoor te zorgen dat alle teamleden zich comfortabel voelen om eventuele zorgen of problemen te uiten.\n\n3. Realiseren van een soepele transitie naar een OMS in RWS beheer: Dit kan worden bereikt door duidelijke communicatie en planning. Het kan nuttig zijn om een gezamenlijk projectteam op te zetten dat verantwoordelijk is voor het beheer van de transitie, en om regelmatige updates te geven aan alle betrokken partijen over de voortgang van de transitie.\n\n4. Creëren van een robuust samenwerkingsklimaat: Dit kan worden bereikt door het opbouwen van vertrouwen en openheid tussen de OG en de ON. Dit kan betekenen dat er tijd wordt geïnvesteerd in teambuildingactiviteiten en in het ontwikkelen van een gedeelde visie en doelen voor het project. Het is ook belangrijk om een omgeving te creëren waarin alle teamleden zich gewaardeerd en gerespecteerd voelen.\n\nDeze stappen kunnen helpen om een optimale samenwerking tussen de OG en de ON te bevorderen en bij te dragen aan het succes van het project. Het is echter belangrijk om te onthouden dat de specifieke details en behoeften van het project en de betrokken partijen kunnen variëren, en dat deze suggesties mogelijk moeten worden aangepast om aan deze specifieke behoeften te voldoen.`",
     "output_type": "error",
     "traceback": [
      "\u001b[0;31m---------------------------------------------------------------------------\u001b[0m",
      "\u001b[0;31mOutputParserException\u001b[0m                     Traceback (most recent call last)",
      "Cell \u001b[0;32mIn[20], line 1\u001b[0m\n\u001b[0;32m----> 1\u001b[0m agent\u001b[39m.\u001b[39;49mrun(\u001b[39minput\u001b[39;49m\u001b[39m=\u001b[39;49m\u001b[39m\"\u001b[39;49m\u001b[39mde aanbesteder verwacht een invulling ten aanzien van: 1. Het gezamenlijk toepassen van operationeel Assetmanagement op onderhoud- en inspectieregimes.  2. Het in samenwerking komen tot een hogere trede (voor beide partijen) op de veiligheidscultuurladder. 3. Realiseren van een soepele transitie naar een OMS in RWS beheer. 4.Het creëren van een robuust samenwerkingsklimaat waarin relationele aspecten zoals vertrouwen, persoonlijkheden, competenties, cultuur, belangen en openheid centraal staan. Hoe zou op basis van deze punten de optimale samenwerking tussen OG en ON kunnen invullen? Wees specifiek en speculeer, maar benoem dat expliciet.\u001b[39;49m\u001b[39m\"\u001b[39;49m)\n",
      "File \u001b[0;32m~/Projects/perry/venv/lib/python3.11/site-packages/langchain/chains/base.py:320\u001b[0m, in \u001b[0;36mChain.run\u001b[0;34m(self, callbacks, tags, metadata, *args, **kwargs)\u001b[0m\n\u001b[1;32m    315\u001b[0m     \u001b[39mreturn\u001b[39;00m \u001b[39mself\u001b[39m(args[\u001b[39m0\u001b[39m], callbacks\u001b[39m=\u001b[39mcallbacks, tags\u001b[39m=\u001b[39mtags, metadata\u001b[39m=\u001b[39mmetadata)[\n\u001b[1;32m    316\u001b[0m         _output_key\n\u001b[1;32m    317\u001b[0m     ]\n\u001b[1;32m    319\u001b[0m \u001b[39mif\u001b[39;00m kwargs \u001b[39mand\u001b[39;00m \u001b[39mnot\u001b[39;00m args:\n\u001b[0;32m--> 320\u001b[0m     \u001b[39mreturn\u001b[39;00m \u001b[39mself\u001b[39;49m(kwargs, callbacks\u001b[39m=\u001b[39;49mcallbacks, tags\u001b[39m=\u001b[39;49mtags, metadata\u001b[39m=\u001b[39;49mmetadata)[\n\u001b[1;32m    321\u001b[0m         _output_key\n\u001b[1;32m    322\u001b[0m     ]\n\u001b[1;32m    324\u001b[0m \u001b[39mif\u001b[39;00m \u001b[39mnot\u001b[39;00m kwargs \u001b[39mand\u001b[39;00m \u001b[39mnot\u001b[39;00m args:\n\u001b[1;32m    325\u001b[0m     \u001b[39mraise\u001b[39;00m \u001b[39mValueError\u001b[39;00m(\n\u001b[1;32m    326\u001b[0m         \u001b[39m\"\u001b[39m\u001b[39m`run` supported with either positional arguments or keyword arguments,\u001b[39m\u001b[39m\"\u001b[39m\n\u001b[1;32m    327\u001b[0m         \u001b[39m\"\u001b[39m\u001b[39m but none were provided.\u001b[39m\u001b[39m\"\u001b[39m\n\u001b[1;32m    328\u001b[0m     )\n",
      "File \u001b[0;32m~/Projects/perry/venv/lib/python3.11/site-packages/langchain/chains/base.py:181\u001b[0m, in \u001b[0;36mChain.__call__\u001b[0;34m(self, inputs, return_only_outputs, callbacks, tags, metadata, include_run_info)\u001b[0m\n\u001b[1;32m    179\u001b[0m \u001b[39mexcept\u001b[39;00m (\u001b[39mKeyboardInterrupt\u001b[39;00m, \u001b[39mException\u001b[39;00m) \u001b[39mas\u001b[39;00m e:\n\u001b[1;32m    180\u001b[0m     run_manager\u001b[39m.\u001b[39mon_chain_error(e)\n\u001b[0;32m--> 181\u001b[0m     \u001b[39mraise\u001b[39;00m e\n\u001b[1;32m    182\u001b[0m run_manager\u001b[39m.\u001b[39mon_chain_end(outputs)\n\u001b[1;32m    183\u001b[0m final_outputs: Dict[\u001b[39mstr\u001b[39m, Any] \u001b[39m=\u001b[39m \u001b[39mself\u001b[39m\u001b[39m.\u001b[39mprep_outputs(\n\u001b[1;32m    184\u001b[0m     inputs, outputs, return_only_outputs\n\u001b[1;32m    185\u001b[0m )\n",
      "File \u001b[0;32m~/Projects/perry/venv/lib/python3.11/site-packages/langchain/chains/base.py:175\u001b[0m, in \u001b[0;36mChain.__call__\u001b[0;34m(self, inputs, return_only_outputs, callbacks, tags, metadata, include_run_info)\u001b[0m\n\u001b[1;32m    169\u001b[0m run_manager \u001b[39m=\u001b[39m callback_manager\u001b[39m.\u001b[39mon_chain_start(\n\u001b[1;32m    170\u001b[0m     dumpd(\u001b[39mself\u001b[39m),\n\u001b[1;32m    171\u001b[0m     inputs,\n\u001b[1;32m    172\u001b[0m )\n\u001b[1;32m    173\u001b[0m \u001b[39mtry\u001b[39;00m:\n\u001b[1;32m    174\u001b[0m     outputs \u001b[39m=\u001b[39m (\n\u001b[0;32m--> 175\u001b[0m         \u001b[39mself\u001b[39;49m\u001b[39m.\u001b[39;49m_call(inputs, run_manager\u001b[39m=\u001b[39;49mrun_manager)\n\u001b[1;32m    176\u001b[0m         \u001b[39mif\u001b[39;00m new_arg_supported\n\u001b[1;32m    177\u001b[0m         \u001b[39melse\u001b[39;00m \u001b[39mself\u001b[39m\u001b[39m.\u001b[39m_call(inputs)\n\u001b[1;32m    178\u001b[0m     )\n\u001b[1;32m    179\u001b[0m \u001b[39mexcept\u001b[39;00m (\u001b[39mKeyboardInterrupt\u001b[39;00m, \u001b[39mException\u001b[39;00m) \u001b[39mas\u001b[39;00m e:\n\u001b[1;32m    180\u001b[0m     run_manager\u001b[39m.\u001b[39mon_chain_error(e)\n",
      "File \u001b[0;32m~/Projects/perry/venv/lib/python3.11/site-packages/langchain/agents/agent.py:987\u001b[0m, in \u001b[0;36mAgentExecutor._call\u001b[0;34m(self, inputs, run_manager)\u001b[0m\n\u001b[1;32m    985\u001b[0m \u001b[39m# We now enter the agent loop (until it returns something).\u001b[39;00m\n\u001b[1;32m    986\u001b[0m \u001b[39mwhile\u001b[39;00m \u001b[39mself\u001b[39m\u001b[39m.\u001b[39m_should_continue(iterations, time_elapsed):\n\u001b[0;32m--> 987\u001b[0m     next_step_output \u001b[39m=\u001b[39m \u001b[39mself\u001b[39;49m\u001b[39m.\u001b[39;49m_take_next_step(\n\u001b[1;32m    988\u001b[0m         name_to_tool_map,\n\u001b[1;32m    989\u001b[0m         color_mapping,\n\u001b[1;32m    990\u001b[0m         inputs,\n\u001b[1;32m    991\u001b[0m         intermediate_steps,\n\u001b[1;32m    992\u001b[0m         run_manager\u001b[39m=\u001b[39;49mrun_manager,\n\u001b[1;32m    993\u001b[0m     )\n\u001b[1;32m    994\u001b[0m     \u001b[39mif\u001b[39;00m \u001b[39misinstance\u001b[39m(next_step_output, AgentFinish):\n\u001b[1;32m    995\u001b[0m         \u001b[39mreturn\u001b[39;00m \u001b[39mself\u001b[39m\u001b[39m.\u001b[39m_return(\n\u001b[1;32m    996\u001b[0m             next_step_output, intermediate_steps, run_manager\u001b[39m=\u001b[39mrun_manager\n\u001b[1;32m    997\u001b[0m         )\n",
      "File \u001b[0;32m~/Projects/perry/venv/lib/python3.11/site-packages/langchain/agents/agent.py:803\u001b[0m, in \u001b[0;36mAgentExecutor._take_next_step\u001b[0;34m(self, name_to_tool_map, color_mapping, inputs, intermediate_steps, run_manager)\u001b[0m\n\u001b[1;32m    801\u001b[0m     raise_error \u001b[39m=\u001b[39m \u001b[39mFalse\u001b[39;00m\n\u001b[1;32m    802\u001b[0m \u001b[39mif\u001b[39;00m raise_error:\n\u001b[0;32m--> 803\u001b[0m     \u001b[39mraise\u001b[39;00m e\n\u001b[1;32m    804\u001b[0m text \u001b[39m=\u001b[39m \u001b[39mstr\u001b[39m(e)\n\u001b[1;32m    805\u001b[0m \u001b[39mif\u001b[39;00m \u001b[39misinstance\u001b[39m(\u001b[39mself\u001b[39m\u001b[39m.\u001b[39mhandle_parsing_errors, \u001b[39mbool\u001b[39m):\n",
      "File \u001b[0;32m~/Projects/perry/venv/lib/python3.11/site-packages/langchain/agents/agent.py:792\u001b[0m, in \u001b[0;36mAgentExecutor._take_next_step\u001b[0;34m(self, name_to_tool_map, color_mapping, inputs, intermediate_steps, run_manager)\u001b[0m\n\u001b[1;32m    786\u001b[0m \u001b[39m\u001b[39m\u001b[39m\"\"\"Take a single step in the thought-action-observation loop.\u001b[39;00m\n\u001b[1;32m    787\u001b[0m \n\u001b[1;32m    788\u001b[0m \u001b[39mOverride this to take control of how the agent makes and acts on choices.\u001b[39;00m\n\u001b[1;32m    789\u001b[0m \u001b[39m\"\"\"\u001b[39;00m\n\u001b[1;32m    790\u001b[0m \u001b[39mtry\u001b[39;00m:\n\u001b[1;32m    791\u001b[0m     \u001b[39m# Call the LLM to see what to do.\u001b[39;00m\n\u001b[0;32m--> 792\u001b[0m     output \u001b[39m=\u001b[39m \u001b[39mself\u001b[39;49m\u001b[39m.\u001b[39;49magent\u001b[39m.\u001b[39;49mplan(\n\u001b[1;32m    793\u001b[0m         intermediate_steps,\n\u001b[1;32m    794\u001b[0m         callbacks\u001b[39m=\u001b[39;49mrun_manager\u001b[39m.\u001b[39;49mget_child() \u001b[39mif\u001b[39;49;00m run_manager \u001b[39melse\u001b[39;49;00m \u001b[39mNone\u001b[39;49;00m,\n\u001b[1;32m    795\u001b[0m         \u001b[39m*\u001b[39;49m\u001b[39m*\u001b[39;49minputs,\n\u001b[1;32m    796\u001b[0m     )\n\u001b[1;32m    797\u001b[0m \u001b[39mexcept\u001b[39;00m OutputParserException \u001b[39mas\u001b[39;00m e:\n\u001b[1;32m    798\u001b[0m     \u001b[39mif\u001b[39;00m \u001b[39misinstance\u001b[39m(\u001b[39mself\u001b[39m\u001b[39m.\u001b[39mhandle_parsing_errors, \u001b[39mbool\u001b[39m):\n",
      "File \u001b[0;32m~/Projects/perry/venv/lib/python3.11/site-packages/langchain/agents/agent.py:444\u001b[0m, in \u001b[0;36mAgent.plan\u001b[0;34m(self, intermediate_steps, callbacks, **kwargs)\u001b[0m\n\u001b[1;32m    442\u001b[0m full_inputs \u001b[39m=\u001b[39m \u001b[39mself\u001b[39m\u001b[39m.\u001b[39mget_full_inputs(intermediate_steps, \u001b[39m*\u001b[39m\u001b[39m*\u001b[39mkwargs)\n\u001b[1;32m    443\u001b[0m full_output \u001b[39m=\u001b[39m \u001b[39mself\u001b[39m\u001b[39m.\u001b[39mllm_chain\u001b[39m.\u001b[39mpredict(callbacks\u001b[39m=\u001b[39mcallbacks, \u001b[39m*\u001b[39m\u001b[39m*\u001b[39mfull_inputs)\n\u001b[0;32m--> 444\u001b[0m \u001b[39mreturn\u001b[39;00m \u001b[39mself\u001b[39;49m\u001b[39m.\u001b[39;49moutput_parser\u001b[39m.\u001b[39;49mparse(full_output)\n",
      "File \u001b[0;32m~/Projects/perry/venv/lib/python3.11/site-packages/langchain/agents/conversational/output_parser.py:23\u001b[0m, in \u001b[0;36mConvoOutputParser.parse\u001b[0;34m(self, text)\u001b[0m\n\u001b[1;32m     21\u001b[0m match \u001b[39m=\u001b[39m re\u001b[39m.\u001b[39msearch(regex, text)\n\u001b[1;32m     22\u001b[0m \u001b[39mif\u001b[39;00m \u001b[39mnot\u001b[39;00m match:\n\u001b[0;32m---> 23\u001b[0m     \u001b[39mraise\u001b[39;00m OutputParserException(\u001b[39mf\u001b[39m\u001b[39m\"\u001b[39m\u001b[39mCould not parse LLM output: `\u001b[39m\u001b[39m{\u001b[39;00mtext\u001b[39m}\u001b[39;00m\u001b[39m`\u001b[39m\u001b[39m\"\u001b[39m)\n\u001b[1;32m     24\u001b[0m action \u001b[39m=\u001b[39m match\u001b[39m.\u001b[39mgroup(\u001b[39m1\u001b[39m)\n\u001b[1;32m     25\u001b[0m action_input \u001b[39m=\u001b[39m match\u001b[39m.\u001b[39mgroup(\u001b[39m2\u001b[39m)\n",
      "\u001b[0;31mOutputParserException\u001b[0m: Could not parse LLM output: `Om de optimale samenwerking tussen de Opdrachtgever (OG) en de Opdrachtnemer (ON) te realiseren op basis van de genoemde punten, zou je de volgende stappen kunnen overwegen. Let op, dit is speculatief en gebaseerd op algemene observaties:\n\n1. Gezamenlijk toepassen van operationeel Assetmanagement: Dit kan worden bereikt door regelmatige bijeenkomsten te organiseren waarin beide partijen hun inzichten en expertise delen over onderhouds- en inspectieregimes. Het gebruik van gezamenlijke tools en platforms voor assetmanagement kan ook nuttig zijn om ervoor te zorgen dat alle relevante informatie gemakkelijk toegankelijk is voor beide partijen.\n\n2. Samenwerken aan een hogere trede op de veiligheidscultuurladder: Dit kan worden bereikt door gezamenlijke veiligheidstrainingen en workshops te organiseren. Het is ook belangrijk om een open dialoog te hebben over veiligheidskwesties en om ervoor te zorgen dat alle teamleden zich comfortabel voelen om eventuele zorgen of problemen te uiten.\n\n3. Realiseren van een soepele transitie naar een OMS in RWS beheer: Dit kan worden bereikt door duidelijke communicatie en planning. Het kan nuttig zijn om een gezamenlijk projectteam op te zetten dat verantwoordelijk is voor het beheer van de transitie, en om regelmatige updates te geven aan alle betrokken partijen over de voortgang van de transitie.\n\n4. Creëren van een robuust samenwerkingsklimaat: Dit kan worden bereikt door het opbouwen van vertrouwen en openheid tussen de OG en de ON. Dit kan betekenen dat er tijd wordt geïnvesteerd in teambuildingactiviteiten en in het ontwikkelen van een gedeelde visie en doelen voor het project. Het is ook belangrijk om een omgeving te creëren waarin alle teamleden zich gewaardeerd en gerespecteerd voelen.\n\nDeze stappen kunnen helpen om een optimale samenwerking tussen de OG en de ON te bevorderen en bij te dragen aan het succes van het project. Het is echter belangrijk om te onthouden dat de specifieke details en behoeften van het project en de betrokken partijen kunnen variëren, en dat deze suggesties mogelijk moeten worden aangepast om aan deze specifieke behoeften te voldoen.`"
     ]
    }
   ],
   "source": [
    "agent.run(input=\"de aanbesteder verwacht een invulling ten aanzien van: 1. Het gezamenlijk toepassen van operationeel Assetmanagement op onderhoud- en inspectieregimes.  2. Het in samenwerking komen tot een hogere trede (voor beide partijen) op de veiligheidscultuurladder. 3. Realiseren van een soepele transitie naar een OMS in RWS beheer. 4.Het creëren van een robuust samenwerkingsklimaat waarin relationele aspecten zoals vertrouwen, persoonlijkheden, competenties, cultuur, belangen en openheid centraal staan. Hoe zou op basis van deze punten de optimale samenwerking tussen OG en ON kunnen invullen? Wees specifiek en speculeer, maar benoem dat expliciet.\")"
   ]
  },
  {
   "cell_type": "code",
   "execution_count": 23,
   "id": "9a81e355",
   "metadata": {},
   "outputs": [
    {
     "name": "stdout",
     "output_type": "stream",
     "text": [
      "\n",
      "\n",
      "\u001b[1m> Entering new  chain...\u001b[0m\n"
     ]
    },
    {
     "ename": "OutputParserException",
     "evalue": "Could not parse LLM output: `Het schrijven van een succesvol projectvoorstel voor Rijkswaterstaat vereist een duidelijke, beknopte en overtuigende schrijfstijl. Hier zijn enkele richtlijnen:\n\n1. Duidelijk en beknopt: Gebruik eenvoudige en duidelijke taal. Vermijd jargon waar mogelijk en leg technische termen uit. Zorg ervoor dat uw punten gemakkelijk te begrijpen zijn.\n\n2. Feitelijk en onderbouwd: Ondersteun uw argumenten met feiten en gegevens. Dit toont aan dat u uw onderzoek heeft gedaan en dat uw voorstellen realistisch en haalbaar zijn.\n\n3. Overtuigend: Uw doel is om de besluitvormers te overtuigen van de waarde van uw project. Benadruk de voordelen en de positieve impact van uw project.\n\n4. Gericht op de behoeften van Rijkswaterstaat: Toon aan dat u de behoeften en doelen van Rijkswaterstaat begrijpt. Leg uit hoe uw project aan deze behoeften voldoet en bijdraagt aan de doelen van Rijkswaterstaat.\n\n5. Professioneel: Zorg ervoor dat uw voorstel professioneel is geschreven en gepresenteerd. Dit toont aan dat u serieus en betrouwbaar bent.\n\n6. Toekomstgericht: Benadruk hoe uw project op de lange termijn waarde zal toevoegen. Dit kan helpen om de besluitvormers te overtuigen van de duurzaamheid en toekomstige impact van uw project.\n\nLet op, dit is speculatief en gebaseerd op algemene beste praktijken voor het schrijven van projectvoorstellen. De specifieke eisen en voorkeuren kunnen variëren afhankelijk van het project en de betrokken personen bij Rijkswaterstaat.`",
     "output_type": "error",
     "traceback": [
      "\u001b[0;31m---------------------------------------------------------------------------\u001b[0m",
      "\u001b[0;31mOutputParserException\u001b[0m                     Traceback (most recent call last)",
      "Cell \u001b[0;32mIn[23], line 1\u001b[0m\n\u001b[0;32m----> 1\u001b[0m text \u001b[39m=\u001b[39m agent\u001b[39m.\u001b[39;49mrun(\u001b[39m\"\u001b[39;49m\u001b[39mBeschrijf wat de meest succesvolle schrijfstijl is om dit project binnen te krijgen.\u001b[39;49m\u001b[39m\"\u001b[39;49m)\n",
      "File \u001b[0;32m~/Projects/perry/venv/lib/python3.11/site-packages/langchain/chains/base.py:315\u001b[0m, in \u001b[0;36mChain.run\u001b[0;34m(self, callbacks, tags, metadata, *args, **kwargs)\u001b[0m\n\u001b[1;32m    313\u001b[0m     \u001b[39mif\u001b[39;00m \u001b[39mlen\u001b[39m(args) \u001b[39m!=\u001b[39m \u001b[39m1\u001b[39m:\n\u001b[1;32m    314\u001b[0m         \u001b[39mraise\u001b[39;00m \u001b[39mValueError\u001b[39;00m(\u001b[39m\"\u001b[39m\u001b[39m`run` supports only one positional argument.\u001b[39m\u001b[39m\"\u001b[39m)\n\u001b[0;32m--> 315\u001b[0m     \u001b[39mreturn\u001b[39;00m \u001b[39mself\u001b[39;49m(args[\u001b[39m0\u001b[39;49m], callbacks\u001b[39m=\u001b[39;49mcallbacks, tags\u001b[39m=\u001b[39;49mtags, metadata\u001b[39m=\u001b[39;49mmetadata)[\n\u001b[1;32m    316\u001b[0m         _output_key\n\u001b[1;32m    317\u001b[0m     ]\n\u001b[1;32m    319\u001b[0m \u001b[39mif\u001b[39;00m kwargs \u001b[39mand\u001b[39;00m \u001b[39mnot\u001b[39;00m args:\n\u001b[1;32m    320\u001b[0m     \u001b[39mreturn\u001b[39;00m \u001b[39mself\u001b[39m(kwargs, callbacks\u001b[39m=\u001b[39mcallbacks, tags\u001b[39m=\u001b[39mtags, metadata\u001b[39m=\u001b[39mmetadata)[\n\u001b[1;32m    321\u001b[0m         _output_key\n\u001b[1;32m    322\u001b[0m     ]\n",
      "File \u001b[0;32m~/Projects/perry/venv/lib/python3.11/site-packages/langchain/chains/base.py:181\u001b[0m, in \u001b[0;36mChain.__call__\u001b[0;34m(self, inputs, return_only_outputs, callbacks, tags, metadata, include_run_info)\u001b[0m\n\u001b[1;32m    179\u001b[0m \u001b[39mexcept\u001b[39;00m (\u001b[39mKeyboardInterrupt\u001b[39;00m, \u001b[39mException\u001b[39;00m) \u001b[39mas\u001b[39;00m e:\n\u001b[1;32m    180\u001b[0m     run_manager\u001b[39m.\u001b[39mon_chain_error(e)\n\u001b[0;32m--> 181\u001b[0m     \u001b[39mraise\u001b[39;00m e\n\u001b[1;32m    182\u001b[0m run_manager\u001b[39m.\u001b[39mon_chain_end(outputs)\n\u001b[1;32m    183\u001b[0m final_outputs: Dict[\u001b[39mstr\u001b[39m, Any] \u001b[39m=\u001b[39m \u001b[39mself\u001b[39m\u001b[39m.\u001b[39mprep_outputs(\n\u001b[1;32m    184\u001b[0m     inputs, outputs, return_only_outputs\n\u001b[1;32m    185\u001b[0m )\n",
      "File \u001b[0;32m~/Projects/perry/venv/lib/python3.11/site-packages/langchain/chains/base.py:175\u001b[0m, in \u001b[0;36mChain.__call__\u001b[0;34m(self, inputs, return_only_outputs, callbacks, tags, metadata, include_run_info)\u001b[0m\n\u001b[1;32m    169\u001b[0m run_manager \u001b[39m=\u001b[39m callback_manager\u001b[39m.\u001b[39mon_chain_start(\n\u001b[1;32m    170\u001b[0m     dumpd(\u001b[39mself\u001b[39m),\n\u001b[1;32m    171\u001b[0m     inputs,\n\u001b[1;32m    172\u001b[0m )\n\u001b[1;32m    173\u001b[0m \u001b[39mtry\u001b[39;00m:\n\u001b[1;32m    174\u001b[0m     outputs \u001b[39m=\u001b[39m (\n\u001b[0;32m--> 175\u001b[0m         \u001b[39mself\u001b[39;49m\u001b[39m.\u001b[39;49m_call(inputs, run_manager\u001b[39m=\u001b[39;49mrun_manager)\n\u001b[1;32m    176\u001b[0m         \u001b[39mif\u001b[39;00m new_arg_supported\n\u001b[1;32m    177\u001b[0m         \u001b[39melse\u001b[39;00m \u001b[39mself\u001b[39m\u001b[39m.\u001b[39m_call(inputs)\n\u001b[1;32m    178\u001b[0m     )\n\u001b[1;32m    179\u001b[0m \u001b[39mexcept\u001b[39;00m (\u001b[39mKeyboardInterrupt\u001b[39;00m, \u001b[39mException\u001b[39;00m) \u001b[39mas\u001b[39;00m e:\n\u001b[1;32m    180\u001b[0m     run_manager\u001b[39m.\u001b[39mon_chain_error(e)\n",
      "File \u001b[0;32m~/Projects/perry/venv/lib/python3.11/site-packages/langchain/agents/agent.py:987\u001b[0m, in \u001b[0;36mAgentExecutor._call\u001b[0;34m(self, inputs, run_manager)\u001b[0m\n\u001b[1;32m    985\u001b[0m \u001b[39m# We now enter the agent loop (until it returns something).\u001b[39;00m\n\u001b[1;32m    986\u001b[0m \u001b[39mwhile\u001b[39;00m \u001b[39mself\u001b[39m\u001b[39m.\u001b[39m_should_continue(iterations, time_elapsed):\n\u001b[0;32m--> 987\u001b[0m     next_step_output \u001b[39m=\u001b[39m \u001b[39mself\u001b[39;49m\u001b[39m.\u001b[39;49m_take_next_step(\n\u001b[1;32m    988\u001b[0m         name_to_tool_map,\n\u001b[1;32m    989\u001b[0m         color_mapping,\n\u001b[1;32m    990\u001b[0m         inputs,\n\u001b[1;32m    991\u001b[0m         intermediate_steps,\n\u001b[1;32m    992\u001b[0m         run_manager\u001b[39m=\u001b[39;49mrun_manager,\n\u001b[1;32m    993\u001b[0m     )\n\u001b[1;32m    994\u001b[0m     \u001b[39mif\u001b[39;00m \u001b[39misinstance\u001b[39m(next_step_output, AgentFinish):\n\u001b[1;32m    995\u001b[0m         \u001b[39mreturn\u001b[39;00m \u001b[39mself\u001b[39m\u001b[39m.\u001b[39m_return(\n\u001b[1;32m    996\u001b[0m             next_step_output, intermediate_steps, run_manager\u001b[39m=\u001b[39mrun_manager\n\u001b[1;32m    997\u001b[0m         )\n",
      "File \u001b[0;32m~/Projects/perry/venv/lib/python3.11/site-packages/langchain/agents/agent.py:803\u001b[0m, in \u001b[0;36mAgentExecutor._take_next_step\u001b[0;34m(self, name_to_tool_map, color_mapping, inputs, intermediate_steps, run_manager)\u001b[0m\n\u001b[1;32m    801\u001b[0m     raise_error \u001b[39m=\u001b[39m \u001b[39mFalse\u001b[39;00m\n\u001b[1;32m    802\u001b[0m \u001b[39mif\u001b[39;00m raise_error:\n\u001b[0;32m--> 803\u001b[0m     \u001b[39mraise\u001b[39;00m e\n\u001b[1;32m    804\u001b[0m text \u001b[39m=\u001b[39m \u001b[39mstr\u001b[39m(e)\n\u001b[1;32m    805\u001b[0m \u001b[39mif\u001b[39;00m \u001b[39misinstance\u001b[39m(\u001b[39mself\u001b[39m\u001b[39m.\u001b[39mhandle_parsing_errors, \u001b[39mbool\u001b[39m):\n",
      "File \u001b[0;32m~/Projects/perry/venv/lib/python3.11/site-packages/langchain/agents/agent.py:792\u001b[0m, in \u001b[0;36mAgentExecutor._take_next_step\u001b[0;34m(self, name_to_tool_map, color_mapping, inputs, intermediate_steps, run_manager)\u001b[0m\n\u001b[1;32m    786\u001b[0m \u001b[39m\u001b[39m\u001b[39m\"\"\"Take a single step in the thought-action-observation loop.\u001b[39;00m\n\u001b[1;32m    787\u001b[0m \n\u001b[1;32m    788\u001b[0m \u001b[39mOverride this to take control of how the agent makes and acts on choices.\u001b[39;00m\n\u001b[1;32m    789\u001b[0m \u001b[39m\"\"\"\u001b[39;00m\n\u001b[1;32m    790\u001b[0m \u001b[39mtry\u001b[39;00m:\n\u001b[1;32m    791\u001b[0m     \u001b[39m# Call the LLM to see what to do.\u001b[39;00m\n\u001b[0;32m--> 792\u001b[0m     output \u001b[39m=\u001b[39m \u001b[39mself\u001b[39;49m\u001b[39m.\u001b[39;49magent\u001b[39m.\u001b[39;49mplan(\n\u001b[1;32m    793\u001b[0m         intermediate_steps,\n\u001b[1;32m    794\u001b[0m         callbacks\u001b[39m=\u001b[39;49mrun_manager\u001b[39m.\u001b[39;49mget_child() \u001b[39mif\u001b[39;49;00m run_manager \u001b[39melse\u001b[39;49;00m \u001b[39mNone\u001b[39;49;00m,\n\u001b[1;32m    795\u001b[0m         \u001b[39m*\u001b[39;49m\u001b[39m*\u001b[39;49minputs,\n\u001b[1;32m    796\u001b[0m     )\n\u001b[1;32m    797\u001b[0m \u001b[39mexcept\u001b[39;00m OutputParserException \u001b[39mas\u001b[39;00m e:\n\u001b[1;32m    798\u001b[0m     \u001b[39mif\u001b[39;00m \u001b[39misinstance\u001b[39m(\u001b[39mself\u001b[39m\u001b[39m.\u001b[39mhandle_parsing_errors, \u001b[39mbool\u001b[39m):\n",
      "File \u001b[0;32m~/Projects/perry/venv/lib/python3.11/site-packages/langchain/agents/agent.py:444\u001b[0m, in \u001b[0;36mAgent.plan\u001b[0;34m(self, intermediate_steps, callbacks, **kwargs)\u001b[0m\n\u001b[1;32m    442\u001b[0m full_inputs \u001b[39m=\u001b[39m \u001b[39mself\u001b[39m\u001b[39m.\u001b[39mget_full_inputs(intermediate_steps, \u001b[39m*\u001b[39m\u001b[39m*\u001b[39mkwargs)\n\u001b[1;32m    443\u001b[0m full_output \u001b[39m=\u001b[39m \u001b[39mself\u001b[39m\u001b[39m.\u001b[39mllm_chain\u001b[39m.\u001b[39mpredict(callbacks\u001b[39m=\u001b[39mcallbacks, \u001b[39m*\u001b[39m\u001b[39m*\u001b[39mfull_inputs)\n\u001b[0;32m--> 444\u001b[0m \u001b[39mreturn\u001b[39;00m \u001b[39mself\u001b[39;49m\u001b[39m.\u001b[39;49moutput_parser\u001b[39m.\u001b[39;49mparse(full_output)\n",
      "File \u001b[0;32m~/Projects/perry/venv/lib/python3.11/site-packages/langchain/agents/conversational/output_parser.py:23\u001b[0m, in \u001b[0;36mConvoOutputParser.parse\u001b[0;34m(self, text)\u001b[0m\n\u001b[1;32m     21\u001b[0m match \u001b[39m=\u001b[39m re\u001b[39m.\u001b[39msearch(regex, text)\n\u001b[1;32m     22\u001b[0m \u001b[39mif\u001b[39;00m \u001b[39mnot\u001b[39;00m match:\n\u001b[0;32m---> 23\u001b[0m     \u001b[39mraise\u001b[39;00m OutputParserException(\u001b[39mf\u001b[39m\u001b[39m\"\u001b[39m\u001b[39mCould not parse LLM output: `\u001b[39m\u001b[39m{\u001b[39;00mtext\u001b[39m}\u001b[39;00m\u001b[39m`\u001b[39m\u001b[39m\"\u001b[39m)\n\u001b[1;32m     24\u001b[0m action \u001b[39m=\u001b[39m match\u001b[39m.\u001b[39mgroup(\u001b[39m1\u001b[39m)\n\u001b[1;32m     25\u001b[0m action_input \u001b[39m=\u001b[39m match\u001b[39m.\u001b[39mgroup(\u001b[39m2\u001b[39m)\n",
      "\u001b[0;31mOutputParserException\u001b[0m: Could not parse LLM output: `Het schrijven van een succesvol projectvoorstel voor Rijkswaterstaat vereist een duidelijke, beknopte en overtuigende schrijfstijl. Hier zijn enkele richtlijnen:\n\n1. Duidelijk en beknopt: Gebruik eenvoudige en duidelijke taal. Vermijd jargon waar mogelijk en leg technische termen uit. Zorg ervoor dat uw punten gemakkelijk te begrijpen zijn.\n\n2. Feitelijk en onderbouwd: Ondersteun uw argumenten met feiten en gegevens. Dit toont aan dat u uw onderzoek heeft gedaan en dat uw voorstellen realistisch en haalbaar zijn.\n\n3. Overtuigend: Uw doel is om de besluitvormers te overtuigen van de waarde van uw project. Benadruk de voordelen en de positieve impact van uw project.\n\n4. Gericht op de behoeften van Rijkswaterstaat: Toon aan dat u de behoeften en doelen van Rijkswaterstaat begrijpt. Leg uit hoe uw project aan deze behoeften voldoet en bijdraagt aan de doelen van Rijkswaterstaat.\n\n5. Professioneel: Zorg ervoor dat uw voorstel professioneel is geschreven en gepresenteerd. Dit toont aan dat u serieus en betrouwbaar bent.\n\n6. Toekomstgericht: Benadruk hoe uw project op de lange termijn waarde zal toevoegen. Dit kan helpen om de besluitvormers te overtuigen van de duurzaamheid en toekomstige impact van uw project.\n\nLet op, dit is speculatief en gebaseerd op algemene beste praktijken voor het schrijven van projectvoorstellen. De specifieke eisen en voorkeuren kunnen variëren afhankelijk van het project en de betrokken personen bij Rijkswaterstaat.`"
     ]
    }
   ],
   "source": [
    "text = agent.run(\"Beschrijf wat de meest succesvolle schrijfstijl is om dit project binnen te krijgen.\")"
   ]
  },
  {
   "cell_type": "code",
   "execution_count": 24,
   "id": "ec5b976f",
   "metadata": {},
   "outputs": [
    {
     "ename": "NameError",
     "evalue": "name 'text' is not defined",
     "output_type": "error",
     "traceback": [
      "\u001b[0;31m---------------------------------------------------------------------------\u001b[0m",
      "\u001b[0;31mNameError\u001b[0m                                 Traceback (most recent call last)",
      "Cell \u001b[0;32mIn[24], line 3\u001b[0m\n\u001b[1;32m      1\u001b[0m \u001b[39m# show text in markdown\u001b[39;00m\n\u001b[1;32m      2\u001b[0m \u001b[39mfrom\u001b[39;00m \u001b[39mIPython\u001b[39;00m\u001b[39m.\u001b[39;00m\u001b[39mdisplay\u001b[39;00m \u001b[39mimport\u001b[39;00m Markdown\n\u001b[0;32m----> 3\u001b[0m Markdown(text)\n",
      "\u001b[0;31mNameError\u001b[0m: name 'text' is not defined"
     ]
    }
   ],
   "source": [
    "# show text in markdown\n",
    "from IPython.display import Markdown\n",
    "Markdown(text)"
   ]
  },
  {
   "cell_type": "code",
   "execution_count": null,
   "id": "a1fc45ef",
   "metadata": {},
   "outputs": [],
   "source": []
  }
 ],
 "metadata": {
  "kernelspec": {
   "display_name": "Python 3 (ipykernel)",
   "language": "python",
   "name": "python3"
  },
  "language_info": {
   "codemirror_mode": {
    "name": "ipython",
    "version": 3
   },
   "file_extension": ".py",
   "mimetype": "text/x-python",
   "name": "python",
   "nbconvert_exporter": "python",
   "pygments_lexer": "ipython3",
   "version": "3.11.3"
  }
 },
 "nbformat": 4,
 "nbformat_minor": 5
}
