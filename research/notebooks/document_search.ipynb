{
 "cells": [
  {
   "attachments": {},
   "cell_type": "markdown",
   "id": "f1521c61-a06e-44db-abf5-d6c9505ea6b8",
   "metadata": {},
   "source": [
    "# Document Search\n",
    "Set up a vector based document search for multiple file types. As files we use a txt file and pdf files, in this case the 10-k filings of Uber from 2019-2022. The goal is to be able to search through these documents using a search query and return the most relevant parts in the documents."
   ]
  },
  {
   "cell_type": "code",
   "execution_count": 3,
   "id": "6f7e03f1",
   "metadata": {
    "vscode": {
     "languageId": "shellscript"
    }
   },
   "outputs": [
    {
     "name": "stdout",
     "output_type": "stream",
     "text": [
      "mkdir: cannot create directory ‘doc_data’: File exists\n",
      "--2023-07-09 13:28:31--  https://www.dropbox.com/s/948jr9cfs7fgj99/UBER.zip?dl=1\n",
      "Loaded CA certificate '/etc/ssl/certs/ca-certificates.crt'\n",
      "Resolving www.dropbox.com (www.dropbox.com)... 2620:100:6021:18::a27d:4112, 162.125.65.18\n",
      "Connecting to www.dropbox.com (www.dropbox.com)|2620:100:6021:18::a27d:4112|:443... connected.\n",
      "HTTP request sent, awaiting response... 302 Found\n",
      "Location: /s/dl/948jr9cfs7fgj99/UBER.zip [following]\n",
      "--2023-07-09 13:28:31--  https://www.dropbox.com/s/dl/948jr9cfs7fgj99/UBER.zip\n",
      "Reusing existing connection to [www.dropbox.com]:443.\n",
      "HTTP request sent, awaiting response... 302 Found\n",
      "Location: https://uc797cd666d44857ff92b9c7d7bd.dl.dropboxusercontent.com/cd/0/get/B_ghPjekQq-O3SjX6e0b5mHWAJvLA-A6u0YkV4IaJ7jcX5DrpzVagPgeYqv6c-PRSy47fuaI3K07vmbjK53PPhBYWuJUhDb1ABacxY3QjaVDwayvsXLkoLu9sh6h-NmHUlu_G2vqYcKESFv6KpEjDtI5jRjB7CV2QeW47jokZXDHMw/file?dl=1# [following]\n",
      "--2023-07-09 13:28:32--  https://uc797cd666d44857ff92b9c7d7bd.dl.dropboxusercontent.com/cd/0/get/B_ghPjekQq-O3SjX6e0b5mHWAJvLA-A6u0YkV4IaJ7jcX5DrpzVagPgeYqv6c-PRSy47fuaI3K07vmbjK53PPhBYWuJUhDb1ABacxY3QjaVDwayvsXLkoLu9sh6h-NmHUlu_G2vqYcKESFv6KpEjDtI5jRjB7CV2QeW47jokZXDHMw/file?dl=1\n",
      "Resolving uc797cd666d44857ff92b9c7d7bd.dl.dropboxusercontent.com (uc797cd666d44857ff92b9c7d7bd.dl.dropboxusercontent.com)... 2620:100:6021:15::a27d:410f, 162.125.65.15\n",
      "Connecting to uc797cd666d44857ff92b9c7d7bd.dl.dropboxusercontent.com (uc797cd666d44857ff92b9c7d7bd.dl.dropboxusercontent.com)|2620:100:6021:15::a27d:410f|:443... connected.\n",
      "HTTP request sent, awaiting response... 200 OK\n",
      "Length: 1820227 (1.7M) [application/binary]\n",
      "Saving to: ‘doc_data/UBER.zip’\n",
      "\n",
      "doc_data/UBER.zip   100%[===================>]   1.74M  8.36MB/s    in 0.2s    \n",
      "\n",
      "2023-07-09 13:28:33 (8.36 MB/s) - ‘doc_data/UBER.zip’ saved [1820227/1820227]\n",
      "\n",
      "Archive:  doc_data/UBER.zip\n",
      "   creating: doc_data/UBER/\n",
      "  inflating: doc_data/UBER/UBER_2021.html  \n",
      "  inflating: doc_data/__MACOSX/UBER/._UBER_2021.html  \n",
      "  inflating: doc_data/UBER/UBER_2020.html  \n",
      "  inflating: doc_data/__MACOSX/UBER/._UBER_2020.html  \n",
      "  inflating: doc_data/UBER/UBER_2019.html  \n",
      "  inflating: doc_data/__MACOSX/UBER/._UBER_2019.html  \n",
      "  inflating: doc_data/UBER/UBER_2022.html  \n",
      "  inflating: doc_data/__MACOSX/UBER/._UBER_2022.html  \n"
     ]
    }
   ],
   "source": [
    "!mkdir doc_data\n",
    "!wget \"https://www.dropbox.com/s/948jr9cfs7fgj99/UBER.zip?dl=1\" -O doc_data/UBER.zip\n",
    "!unzip doc_data/UBER.zip -d doc_data"
   ]
  },
  {
   "attachments": {},
   "cell_type": "markdown",
   "id": "63d563d6",
   "metadata": {},
   "source": [
    "First load the documents using the Unstructured library."
   ]
  },
  {
   "cell_type": "code",
   "execution_count": 1,
   "id": "9b8d7362",
   "metadata": {},
   "outputs": [],
   "source": [
    "from llama_index import download_loader, VectorStoreIndex, ServiceContext, StorageContext, load_index_from_storage\n",
    "from pathlib import Path"
   ]
  },
  {
   "cell_type": "code",
   "execution_count": 2,
   "id": "917fbe4a",
   "metadata": {},
   "outputs": [],
   "source": [
    "# Load API key from environment variable\n",
    "import os\n",
    "import openai\n",
    "from dotenv import load_dotenv\n",
    "load_dotenv()\n",
    "openai.api_key = os.environ[\"OPENAI_API_KEY\"]\n"
   ]
  },
  {
   "cell_type": "code",
   "execution_count": 4,
   "id": "eb04c4ce",
   "metadata": {},
   "outputs": [
    {
     "name": "stderr",
     "output_type": "stream",
     "text": [
      "[nltk_data] Downloading package punkt to /home/bluegnome/nltk_data...\n",
      "[nltk_data]   Package punkt is already up-to-date!\n",
      "[nltk_data] Downloading package averaged_perceptron_tagger to\n",
      "[nltk_data]     /home/bluegnome/nltk_data...\n",
      "[nltk_data]   Package averaged_perceptron_tagger is already up-to-\n",
      "[nltk_data]       date!\n"
     ]
    }
   ],
   "source": [
    "years = [2022, 2021, 2020, 2019]\n",
    "UnstructuredReader = download_loader(\"UnstructuredReader\", refresh_cache=True)\n",
    "\n",
    "loader = UnstructuredReader()\n"
   ]
  },
  {
   "cell_type": "code",
   "execution_count": 4,
   "id": "e82a8f3e",
   "metadata": {},
   "outputs": [],
   "source": [
    "doc_set = {}\n",
    "all_docs = []\n",
    "for year in years:\n",
    "    year_docs = loader.load_data(file=Path(f'./doc_data/UBER/UBER_{year}.html'), split_documents=False)\n",
    "    # insert year metadata into each year\n",
    "    for d in year_docs:\n",
    "        d.metadata = {\"year\": year}\n",
    "    doc_set[year] = year_docs\n",
    "    all_docs.extend(year_docs)"
   ]
  },
  {
   "attachments": {},
   "cell_type": "markdown",
   "id": "ab39356e",
   "metadata": {},
   "source": [
    "No that each document is loaded (into a Document pydantic schema defined by llama-index), we can create indices for search. We use vector indices here."
   ]
  },
  {
   "cell_type": "code",
   "execution_count": 34,
   "id": "78018b14",
   "metadata": {},
   "outputs": [],
   "source": [
    "service_context = ServiceContext.from_defaults(chunk_size=512)  # Set the embedding model to chunk size 512\n",
    "index_set = {}  # Store the indexes for each document\n",
    "for year in years:\n",
    "    storage_context = StorageContext.from_defaults()\n",
    "    cur_index = VectorStoreIndex.from_documents(\n",
    "        doc_set[year],\n",
    "        service_context=service_context,\n",
    "        storage_context=storage_context,\n",
    "    )\n",
    "    index_set[year] = cur_index\n",
    "    storage_context.persist(persist_dir=f'./storage/{year}') # Save the storage index for future use"
   ]
  },
  {
   "attachments": {},
   "cell_type": "markdown",
   "id": "64fb7bbe",
   "metadata": {},
   "source": [
    "Load indices from disk."
   ]
  },
  {
   "cell_type": "code",
   "execution_count": 5,
   "id": "563061bb",
   "metadata": {},
   "outputs": [],
   "source": [
    "# Load indices from disk\n",
    "index_set = {}\n",
    "for year in years:\n",
    "    storage_context = StorageContext.from_defaults(persist_dir=f'./storage/{year}')\n",
    "    cur_index = load_index_from_storage(storage_context=storage_context)\n",
    "    index_set[year] = cur_index"
   ]
  },
  {
   "attachments": {},
   "cell_type": "markdown",
   "id": "4d98dc25",
   "metadata": {},
   "source": [
    "# Graph Composition For Question Answering\n",
    "We might want to ask questions on the entire set of documents, in addition to the individual documents. We compose a \"graph\", being a list index consisting of the vector indices."
   ]
  },
  {
   "cell_type": "code",
   "execution_count": 11,
   "id": "ebc0adfa",
   "metadata": {},
   "outputs": [],
   "source": [
    "from langchain import OpenAI\n",
    "from llama_index import LLMPredictor\n",
    "\n",
    "llm_predictor = LLMPredictor(llm=OpenAI(temperature=0, max_tokens=512))"
   ]
  },
  {
   "cell_type": "code",
   "execution_count": 39,
   "id": "879d98dc",
   "metadata": {},
   "outputs": [],
   "source": [
    "from llama_index import ListIndex, ServiceContext, load_graph_from_storage\n",
    "from llama_index.indices.composability import ComposableGraph\n",
    "\n",
    "# describe each index to help traversal of composed graph\n",
    "index_summaries = [f\"UBER 10-k Filing for {year} fiscal year\" for year in years]\n",
    "\n",
    "# define an LLMPredictor set number of output tokens\n",
    "\n",
    "service_context = ServiceContext.from_defaults(llm_predictor=llm_predictor)\n",
    "storage_context = StorageContext.from_defaults()\n",
    "\n",
    "# define a list index over the vector indices\n",
    "# allows us to synthesize information across each index\n",
    "graph = ComposableGraph.from_indices(\n",
    "    ListIndex,\n",
    "    [index_set[y] for y in years], \n",
    "    index_summaries=index_summaries,\n",
    "    service_context=service_context,\n",
    "    storage_context = storage_context,\n",
    ")\n",
    "root_id = graph.root_id\n",
    "\n",
    "\n",
    "# [optional] save to disk\n",
    "storage_context.persist(persist_dir=f'./storage/root')"
   ]
  },
  {
   "cell_type": "code",
   "execution_count": 40,
   "id": "0f68a7be",
   "metadata": {},
   "outputs": [],
   "source": [
    "# [optional] load from disk, so you don't need to build graph from scratch\n",
    "graph = load_graph_from_storage(\n",
    "    root_id=root_id, \n",
    "    service_context=service_context,\n",
    "    storage_context=storage_context,\n",
    ")"
   ]
  },
  {
   "attachments": {},
   "cell_type": "markdown",
   "id": "45cfff40",
   "metadata": {},
   "source": [
    "# Langchain Tool Setup\n",
    "Now that the graphs exists and are queryable, we can set up lanchain to determine which node to query, and how to query it."
   ]
  },
  {
   "cell_type": "code",
   "execution_count": 7,
   "id": "0ad09d58",
   "metadata": {},
   "outputs": [],
   "source": [
    "from langchain.chains.conversation.memory import ConversationBufferMemory\n",
    "from langchain.agents import initialize_agent\n",
    "\n",
    "from llama_index.langchain_helpers.agents import LlamaToolkit, create_llama_chat_agent, IndexToolConfig"
   ]
  },
  {
   "cell_type": "code",
   "execution_count": 43,
   "id": "af6005ef",
   "metadata": {},
   "outputs": [],
   "source": [
    "# define a decompose transform\n",
    "from llama_index.indices.query.query_transform.base import DecomposeQueryTransform\n",
    "decompose_transform = DecomposeQueryTransform(\n",
    "    llm_predictor, verbose=True\n",
    ")"
   ]
  },
  {
   "cell_type": "code",
   "execution_count": 45,
   "id": "78617d97",
   "metadata": {},
   "outputs": [],
   "source": [
    "# define custom retrievers\n",
    "from llama_index.query_engine.transform_query_engine import TransformQueryEngine\n",
    "\n",
    "custom_query_engines = {}\n",
    "for index in index_set.values():\n",
    "    query_engine = index.as_query_engine()\n",
    "    query_engine = TransformQueryEngine(\n",
    "        query_engine,\n",
    "        query_transform=decompose_transform,\n",
    "        transform_metadata={'index_summary': index.index_struct.summary},\n",
    "    )\n",
    "    custom_query_engines[index.index_id] = query_engine\n",
    "custom_query_engines[graph.root_id] = graph.root_index.as_query_engine(\n",
    "    response_mode='tree_summarize',\n",
    "    verbose=True,\n",
    ")\n",
    "\n",
    "# construct query engine\n",
    "graph_query_engine = graph.as_query_engine(custom_query_engines=custom_query_engines)\n",
    "\n",
    "# tool config\n",
    "graph_config = IndexToolConfig(\n",
    "    query_engine=graph_query_engine,\n",
    "    name=f\"Graph Index\",\n",
    "    description=\"useful for when you want to answer queries that require analyzing multiple SEC 10-K documents for Uber.\",\n",
    "    tool_kwargs={\"return_direct\": True}\n",
    ")"
   ]
  },
  {
   "cell_type": "code",
   "execution_count": 8,
   "id": "50eb6390",
   "metadata": {},
   "outputs": [],
   "source": [
    "# Define tools for each vectorindex\n",
    "index_configs = []\n",
    "for y in range(2019, 2023):\n",
    "    query_engine = index_set[y].as_query_engine(\n",
    "        similarity_top_k=3,\n",
    "    )\n",
    "    tool_config = IndexToolConfig(\n",
    "        query_engine=query_engine, \n",
    "        name=f\"Vector Index {y}\",\n",
    "        description=f\"useful for when you want to answer queries about the {y} SEC 10-K for Uber\",\n",
    "        tool_kwargs={\"return_direct\": True}\n",
    "    )\n",
    "    index_configs.append(tool_config)"
   ]
  },
  {
   "cell_type": "code",
   "execution_count": 9,
   "id": "2cd1ccba",
   "metadata": {},
   "outputs": [],
   "source": [
    "# Create the toolkit with both the graph and vector indices\n",
    "toolkit = LlamaToolkit(\n",
    "    # index_configs=index_configs + [graph_config],\n",
    "    index_configs=index_configs\n",
    ")"
   ]
  },
  {
   "cell_type": "code",
   "execution_count": 12,
   "id": "a9568420",
   "metadata": {},
   "outputs": [],
   "source": [
    "# Create a langchain agent that can use the tools\n",
    "memory = ConversationBufferMemory(memory_key=\"chat_history\")\n",
    "llm=OpenAI(temperature=0)\n",
    "agent_chain = create_llama_chat_agent(\n",
    "    toolkit,\n",
    "    llm,\n",
    "    memory=memory,\n",
    "    verbose=True\n",
    ")"
   ]
  },
  {
   "attachments": {},
   "cell_type": "markdown",
   "id": "2b6a7771",
   "metadata": {},
   "source": [
    "# Testing The Agent"
   ]
  },
  {
   "cell_type": "code",
   "execution_count": 13,
   "id": "abb5ad6f",
   "metadata": {},
   "outputs": [
    {
     "name": "stdout",
     "output_type": "stream",
     "text": [
      "\n",
      "\n",
      "\u001b[1m> Entering new AgentExecutor chain...\u001b[0m\n",
      "\u001b[32;1m\u001b[1;3m\n",
      "Thought: Do I need to use a tool? No\n",
      "AI: Hi Arthur, it's nice to meet you! How can I help you today?\u001b[0m\n",
      "\n",
      "\u001b[1m> Finished chain.\u001b[0m\n"
     ]
    },
    {
     "data": {
      "text/plain": [
       "\"Hi Arthur, it's nice to meet you! How can I help you today?\""
      ]
     },
     "execution_count": 13,
     "metadata": {},
     "output_type": "execute_result"
    }
   ],
   "source": [
    "agent_chain.run(input=\"Hi GPT, I'm Arthur, king of the britons.\")"
   ]
  },
  {
   "cell_type": "code",
   "execution_count": 14,
   "id": "8331d342",
   "metadata": {},
   "outputs": [
    {
     "name": "stdout",
     "output_type": "stream",
     "text": [
      "\n",
      "\n",
      "\u001b[1m> Entering new AgentExecutor chain...\u001b[0m\n",
      "\u001b[32;1m\u001b[1;3m\n",
      "Thought: Do I need to use a tool? Yes\n",
      "Action: Vector Index 2020\n",
      "Action Input: Risk Factors\u001b[0m\n",
      "Observation: \u001b[33;1m\u001b[1;3m\n",
      "1. The COVID-19 pandemic and the impact of actions to mitigate the pandemic\n",
      "2. Drivers being classified as employees, workers or quasi-employees instead of independent contractors\n",
      "3. High competition in the mobility, delivery, and logistics industries\n",
      "4. Lowering of fares or service fees and offering significant Driver incentives and consumer discounts and promotions\n",
      "5. Inability to achieve profitability\n",
      "6. Inability to attract or maintain a critical mass of Drivers, consumers, merchants, shippers, and carriers\n",
      "7. Operational, compliance, and cultural challenges\n",
      "8. Maintaining and enhancing brand and reputation\n",
      "9. Inability to optimize organizational structure or effectively manage growth\n",
      "10. Platform users engaging in criminal, violent, inappropriate, or dangerous activity\n",
      "11. Investing in new offerings and technologies\n",
      "12. Economic, social, weather, and regulatory conditions or other circumstances, including COVID-19\n",
      "13. Retaining and attracting high-quality personnel\n",
      "14. Security or data privacy breaches or other unauthorized or improper access to, use of, alteration of or destruction of proprietary or confidential data, employee data, or platform user data\n",
      "15. Cyberattacks, computer malware, viruses, spamming, and phishing attacks\u001b[0m\n",
      "\u001b[32;1m\u001b[1;3m\u001b[0m\n",
      "\n",
      "\u001b[1m> Finished chain.\u001b[0m\n"
     ]
    },
    {
     "data": {
      "text/plain": [
       "'\\n1. The COVID-19 pandemic and the impact of actions to mitigate the pandemic\\n2. Drivers being classified as employees, workers or quasi-employees instead of independent contractors\\n3. High competition in the mobility, delivery, and logistics industries\\n4. Lowering of fares or service fees and offering significant Driver incentives and consumer discounts and promotions\\n5. Inability to achieve profitability\\n6. Inability to attract or maintain a critical mass of Drivers, consumers, merchants, shippers, and carriers\\n7. Operational, compliance, and cultural challenges\\n8. Maintaining and enhancing brand and reputation\\n9. Inability to optimize organizational structure or effectively manage growth\\n10. Platform users engaging in criminal, violent, inappropriate, or dangerous activity\\n11. Investing in new offerings and technologies\\n12. Economic, social, weather, and regulatory conditions or other circumstances, including COVID-19\\n13. Retaining and attracting high-quality personnel\\n14. Security or data privacy breaches or other unauthorized or improper access to, use of, alteration of or destruction of proprietary or confidential data, employee data, or platform user data\\n15. Cyberattacks, computer malware, viruses, spamming, and phishing attacks'"
      ]
     },
     "execution_count": 14,
     "metadata": {},
     "output_type": "execute_result"
    }
   ],
   "source": [
    "agent_chain.run(input=\"What were some of the biggest risk factors in 2020 for Uber?\")"
   ]
  },
  {
   "cell_type": "code",
   "execution_count": 51,
   "id": "e1b8e4d3",
   "metadata": {},
   "outputs": [
    {
     "name": "stdout",
     "output_type": "stream",
     "text": [
      "\n",
      "\n",
      "\u001b[1m> Entering new  chain...\u001b[0m\n",
      "\u001b[32;1m\u001b[1;3m\n",
      "Thought: Do I need to use a tool? Yes\n",
      "Action: Graph Index\n",
      "Action Input: Compare/contrast the risk factors described in the Uber 10-K across years\u001b[0m\u001b[33;1m\u001b[1;3m> Current query: Compare/contrast the risk factors described in the Uber 10-K across years\n",
      "\u001b[0m\u001b[38;5;200m\u001b[1;3m> New query:  What are the risk factors described in the Uber 10-K for the 2022 fiscal year?\n",
      "\u001b[0m\u001b[33;1m\u001b[1;3m> Current query: Compare/contrast the risk factors described in the Uber 10-K across years\n",
      "\u001b[0m\u001b[38;5;200m\u001b[1;3m> New query:  What are the risk factors described in the Uber 10-K for the 2022 fiscal year?\n",
      "\u001b[0m\u001b[33;1m\u001b[1;3m> Current query: Compare/contrast the risk factors described in the Uber 10-K across years\n",
      "\u001b[0m\u001b[38;5;200m\u001b[1;3m> New query:  What are the risk factors described in the Uber 10-K for the 2021 fiscal year?\n",
      "\u001b[0m\u001b[33;1m\u001b[1;3m> Current query: Compare/contrast the risk factors described in the Uber 10-K across years\n",
      "\u001b[0m\u001b[38;5;200m\u001b[1;3m> New query:  What are the risk factors described in the Uber 10-K for the 2021 fiscal year?\n",
      "\u001b[0m\u001b[33;1m\u001b[1;3m> Current query: Compare/contrast the risk factors described in the Uber 10-K across years\n",
      "\u001b[0m\u001b[38;5;200m\u001b[1;3m> New query:  What are the risk factors described in the Uber 10-K for the 2020 fiscal year?\n",
      "\u001b[0m\u001b[33;1m\u001b[1;3m> Current query: Compare/contrast the risk factors described in the Uber 10-K across years\n",
      "\u001b[0m\u001b[38;5;200m\u001b[1;3m> New query:  What are the risk factors described in the Uber 10-K for the 2020 fiscal year?\n",
      "\u001b[0m\u001b[33;1m\u001b[1;3m> Current query: Compare/contrast the risk factors described in the Uber 10-K across years\n",
      "\u001b[0m\u001b[38;5;200m\u001b[1;3m> New query:  What are the risk factors described in the Uber 10-K for the 2019 fiscal year?\n",
      "\u001b[0m\u001b[33;1m\u001b[1;3m> Current query: Compare/contrast the risk factors described in the Uber 10-K across years\n",
      "\u001b[0m\u001b[38;5;200m\u001b[1;3m> New query:  What are the risk factors described in the Uber 10-K for the 2019 fiscal year?\n",
      "\u001b[0m\n",
      "Observation: \u001b[33;1m\u001b[1;3m\n",
      "The risk factors described in the Uber 10-K for the 2020, 2021, and 2022 fiscal years all include potential for Drivers to be classified as employees, increased competition in the ride-sharing, meal delivery, grocery delivery, and freight industries, potential for regulatory changes, potential for litigation or other proceedings, potential for cybersecurity incidents or other disruptions to the company's technology platform, and potential for the company to be unable to attract and retain key personnel.\n",
      "\n",
      "The risk factors described in the Uber 10-K for the 2020 fiscal year also include the severity of the COVID-19 pandemic, the duration of the outbreak, any future waves or resurgences of the virus, variants of the virus, the timing of widespread adoption of vaccines against the virus, additional actions that may be taken by governmental authorities, the further impact on the business of Drivers, Merchants, consumers, and business partners, and the inability to attract or maintain a critical mass of Drivers, consumers, merchants, shippers, and carriers.\n",
      "\n",
      "The risk factors described in the Uber 10-K for the 2021 fiscal year also include the severity of the COVID-19 pandemic, the duration of the outbreak, any future waves or resurgences of the virus, variants of the virus, the administration, adoption and efficacy of vaccines in the United States and internationally, additional actions that may be taken by governmental authorities, the further impact on the business of Drivers, Merchants, consumers, and business partners, and the potential misclassification of Drivers as independent contractors.\n",
      "\n",
      "The risk factors described in the Uber 10-K for the 2022 fiscal year also include claims of significant liability based on traffic accidents, deaths, injuries, or other incidents that are caused by Drivers, consumers, or third parties while using our platform, or even when Drivers, consumers, or third parties are not actively using our platform, making substantial investments in new offerings and technologies, increasing investments in autonomous vehicle technologies, dockless e-bikes and e-scooters, Freight, and Uber Elevate, and spending substantial amounts to purchase additional dockless e-bikes and e-scooters, which are susceptible to theft and vandalism.\u001b[0m\n",
      "\u001b[32;1m\u001b[1;3m\u001b[0m\n",
      "\n",
      "\u001b[1m> Finished chain.\u001b[0m\n"
     ]
    },
    {
     "data": {
      "text/plain": [
       "\"\\nThe risk factors described in the Uber 10-K for the 2020, 2021, and 2022 fiscal years all include potential for Drivers to be classified as employees, increased competition in the ride-sharing, meal delivery, grocery delivery, and freight industries, potential for regulatory changes, potential for litigation or other proceedings, potential for cybersecurity incidents or other disruptions to the company's technology platform, and potential for the company to be unable to attract and retain key personnel.\\n\\nThe risk factors described in the Uber 10-K for the 2020 fiscal year also include the severity of the COVID-19 pandemic, the duration of the outbreak, any future waves or resurgences of the virus, variants of the virus, the timing of widespread adoption of vaccines against the virus, additional actions that may be taken by governmental authorities, the further impact on the business of Drivers, Merchants, consumers, and business partners, and the inability to attract or maintain a critical mass of Drivers, consumers, merchants, shippers, and carriers.\\n\\nThe risk factors described in the Uber 10-K for the 2021 fiscal year also include the severity of the COVID-19 pandemic, the duration of the outbreak, any future waves or resurgences of the virus, variants of the virus, the administration, adoption and efficacy of vaccines in the United States and internationally, additional actions that may be taken by governmental authorities, the further impact on the business of Drivers, Merchants, consumers, and business partners, and the potential misclassification of Drivers as independent contractors.\\n\\nThe risk factors described in the Uber 10-K for the 2022 fiscal year also include claims of significant liability based on traffic accidents, deaths, injuries, or other incidents that are caused by Drivers, consumers, or third parties while using our platform, or even when Drivers, consumers, or third parties are not actively using our platform, making substantial investments in new offerings and technologies, increasing investments in autonomous vehicle technologies, dockless e-bikes and e-scooters, Freight, and Uber Elevate, and spending substantial amounts to purchase additional dockless e-bikes and e-scooters, which are susceptible to theft and vandalism.\""
      ]
     },
     "execution_count": 51,
     "metadata": {},
     "output_type": "execute_result"
    }
   ],
   "source": [
    "cross_query_str = (\n",
    "    \"Compare/contrast the risk factors described in the Uber 10-K across years. Give answer in bullet points.\"\n",
    ")\n",
    "agent_chain.run(input=cross_query_str)"
   ]
  },
  {
   "cell_type": "code",
   "execution_count": null,
   "id": "1c0f6ef0",
   "metadata": {},
   "outputs": [],
   "source": []
  }
 ],
 "metadata": {
  "kernelspec": {
   "display_name": "Python 3 (ipykernel)",
   "language": "python",
   "name": "python3"
  },
  "language_info": {
   "codemirror_mode": {
    "name": "ipython",
    "version": 3
   },
   "file_extension": ".py",
   "mimetype": "text/x-python",
   "name": "python",
   "nbconvert_exporter": "python",
   "pygments_lexer": "ipython3",
   "version": "3.11.3"
  }
 },
 "nbformat": 4,
 "nbformat_minor": 5
}
